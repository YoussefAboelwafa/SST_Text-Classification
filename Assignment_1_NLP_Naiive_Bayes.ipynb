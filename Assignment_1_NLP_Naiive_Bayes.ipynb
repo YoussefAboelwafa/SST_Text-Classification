{
 "nbformat": 4,
 "nbformat_minor": 0,
 "metadata": {
  "colab": {
   "provenance": [],
   "include_colab_link": true
  },
  "kernelspec": {
   "name": "python3",
   "display_name": "Python 3 (ipykernel)",
   "language": "python"
  },
  "language_info": {
   "name": "python"
  },
  "widgets": {
   "application/vnd.jupyter.widget-state+json": {
    "ac9fb4d9499c4603bbef38c418a728e5": {
     "model_module": "@jupyter-widgets/controls",
     "model_name": "HBoxModel",
     "model_module_version": "1.5.0",
     "state": {
      "_dom_classes": [],
      "_model_module": "@jupyter-widgets/controls",
      "_model_module_version": "1.5.0",
      "_model_name": "HBoxModel",
      "_view_count": null,
      "_view_module": "@jupyter-widgets/controls",
      "_view_module_version": "1.5.0",
      "_view_name": "HBoxView",
      "box_style": "",
      "children": [
       "IPY_MODEL_89a80ddd444e45ccb4a3f1155f8f1cc4",
       "IPY_MODEL_b8461b8b07774ab98831c87d65a50ff8",
       "IPY_MODEL_847d72de25944cff81fd8c1fa4f79e9a"
      ],
      "layout": "IPY_MODEL_f1e058d00a924fae906205f5f4a09729"
     }
    },
    "89a80ddd444e45ccb4a3f1155f8f1cc4": {
     "model_module": "@jupyter-widgets/controls",
     "model_name": "HTMLModel",
     "model_module_version": "1.5.0",
     "state": {
      "_dom_classes": [],
      "_model_module": "@jupyter-widgets/controls",
      "_model_module_version": "1.5.0",
      "_model_name": "HTMLModel",
      "_view_count": null,
      "_view_module": "@jupyter-widgets/controls",
      "_view_module_version": "1.5.0",
      "_view_name": "HTMLView",
      "description": "",
      "description_tooltip": null,
      "layout": "IPY_MODEL_f7ae2159ebc146ba96ff10544f550046",
      "placeholder": "​",
      "style": "IPY_MODEL_8c05c9ce7e7e42b5b53be9f9cdbd07d6",
      "value": "Map: 100%"
     }
    },
    "b8461b8b07774ab98831c87d65a50ff8": {
     "model_module": "@jupyter-widgets/controls",
     "model_name": "FloatProgressModel",
     "model_module_version": "1.5.0",
     "state": {
      "_dom_classes": [],
      "_model_module": "@jupyter-widgets/controls",
      "_model_module_version": "1.5.0",
      "_model_name": "FloatProgressModel",
      "_view_count": null,
      "_view_module": "@jupyter-widgets/controls",
      "_view_module_version": "1.5.0",
      "_view_name": "ProgressView",
      "bar_style": "success",
      "description": "",
      "description_tooltip": null,
      "layout": "IPY_MODEL_0a6e0629e29e4db5bae1967cc1c29a4c",
      "max": 8544,
      "min": 0,
      "orientation": "horizontal",
      "style": "IPY_MODEL_7668a8febd9a4ec9a5b130b7bb9c9508",
      "value": 8544
     }
    },
    "847d72de25944cff81fd8c1fa4f79e9a": {
     "model_module": "@jupyter-widgets/controls",
     "model_name": "HTMLModel",
     "model_module_version": "1.5.0",
     "state": {
      "_dom_classes": [],
      "_model_module": "@jupyter-widgets/controls",
      "_model_module_version": "1.5.0",
      "_model_name": "HTMLModel",
      "_view_count": null,
      "_view_module": "@jupyter-widgets/controls",
      "_view_module_version": "1.5.0",
      "_view_name": "HTMLView",
      "description": "",
      "description_tooltip": null,
      "layout": "IPY_MODEL_855e83cdb6e24dfc8a2693a9ff921260",
      "placeholder": "​",
      "style": "IPY_MODEL_0a777093d2b64a84a50ca50e74d0b24c",
      "value": " 8544/8544 [00:01&lt;00:00, 5632.80 examples/s]"
     }
    },
    "f1e058d00a924fae906205f5f4a09729": {
     "model_module": "@jupyter-widgets/base",
     "model_name": "LayoutModel",
     "model_module_version": "1.2.0",
     "state": {
      "_model_module": "@jupyter-widgets/base",
      "_model_module_version": "1.2.0",
      "_model_name": "LayoutModel",
      "_view_count": null,
      "_view_module": "@jupyter-widgets/base",
      "_view_module_version": "1.2.0",
      "_view_name": "LayoutView",
      "align_content": null,
      "align_items": null,
      "align_self": null,
      "border": null,
      "bottom": null,
      "display": null,
      "flex": null,
      "flex_flow": null,
      "grid_area": null,
      "grid_auto_columns": null,
      "grid_auto_flow": null,
      "grid_auto_rows": null,
      "grid_column": null,
      "grid_gap": null,
      "grid_row": null,
      "grid_template_areas": null,
      "grid_template_columns": null,
      "grid_template_rows": null,
      "height": null,
      "justify_content": null,
      "justify_items": null,
      "left": null,
      "margin": null,
      "max_height": null,
      "max_width": null,
      "min_height": null,
      "min_width": null,
      "object_fit": null,
      "object_position": null,
      "order": null,
      "overflow": null,
      "overflow_x": null,
      "overflow_y": null,
      "padding": null,
      "right": null,
      "top": null,
      "visibility": null,
      "width": null
     }
    },
    "f7ae2159ebc146ba96ff10544f550046": {
     "model_module": "@jupyter-widgets/base",
     "model_name": "LayoutModel",
     "model_module_version": "1.2.0",
     "state": {
      "_model_module": "@jupyter-widgets/base",
      "_model_module_version": "1.2.0",
      "_model_name": "LayoutModel",
      "_view_count": null,
      "_view_module": "@jupyter-widgets/base",
      "_view_module_version": "1.2.0",
      "_view_name": "LayoutView",
      "align_content": null,
      "align_items": null,
      "align_self": null,
      "border": null,
      "bottom": null,
      "display": null,
      "flex": null,
      "flex_flow": null,
      "grid_area": null,
      "grid_auto_columns": null,
      "grid_auto_flow": null,
      "grid_auto_rows": null,
      "grid_column": null,
      "grid_gap": null,
      "grid_row": null,
      "grid_template_areas": null,
      "grid_template_columns": null,
      "grid_template_rows": null,
      "height": null,
      "justify_content": null,
      "justify_items": null,
      "left": null,
      "margin": null,
      "max_height": null,
      "max_width": null,
      "min_height": null,
      "min_width": null,
      "object_fit": null,
      "object_position": null,
      "order": null,
      "overflow": null,
      "overflow_x": null,
      "overflow_y": null,
      "padding": null,
      "right": null,
      "top": null,
      "visibility": null,
      "width": null
     }
    },
    "8c05c9ce7e7e42b5b53be9f9cdbd07d6": {
     "model_module": "@jupyter-widgets/controls",
     "model_name": "DescriptionStyleModel",
     "model_module_version": "1.5.0",
     "state": {
      "_model_module": "@jupyter-widgets/controls",
      "_model_module_version": "1.5.0",
      "_model_name": "DescriptionStyleModel",
      "_view_count": null,
      "_view_module": "@jupyter-widgets/base",
      "_view_module_version": "1.2.0",
      "_view_name": "StyleView",
      "description_width": ""
     }
    },
    "0a6e0629e29e4db5bae1967cc1c29a4c": {
     "model_module": "@jupyter-widgets/base",
     "model_name": "LayoutModel",
     "model_module_version": "1.2.0",
     "state": {
      "_model_module": "@jupyter-widgets/base",
      "_model_module_version": "1.2.0",
      "_model_name": "LayoutModel",
      "_view_count": null,
      "_view_module": "@jupyter-widgets/base",
      "_view_module_version": "1.2.0",
      "_view_name": "LayoutView",
      "align_content": null,
      "align_items": null,
      "align_self": null,
      "border": null,
      "bottom": null,
      "display": null,
      "flex": null,
      "flex_flow": null,
      "grid_area": null,
      "grid_auto_columns": null,
      "grid_auto_flow": null,
      "grid_auto_rows": null,
      "grid_column": null,
      "grid_gap": null,
      "grid_row": null,
      "grid_template_areas": null,
      "grid_template_columns": null,
      "grid_template_rows": null,
      "height": null,
      "justify_content": null,
      "justify_items": null,
      "left": null,
      "margin": null,
      "max_height": null,
      "max_width": null,
      "min_height": null,
      "min_width": null,
      "object_fit": null,
      "object_position": null,
      "order": null,
      "overflow": null,
      "overflow_x": null,
      "overflow_y": null,
      "padding": null,
      "right": null,
      "top": null,
      "visibility": null,
      "width": null
     }
    },
    "7668a8febd9a4ec9a5b130b7bb9c9508": {
     "model_module": "@jupyter-widgets/controls",
     "model_name": "ProgressStyleModel",
     "model_module_version": "1.5.0",
     "state": {
      "_model_module": "@jupyter-widgets/controls",
      "_model_module_version": "1.5.0",
      "_model_name": "ProgressStyleModel",
      "_view_count": null,
      "_view_module": "@jupyter-widgets/base",
      "_view_module_version": "1.2.0",
      "_view_name": "StyleView",
      "bar_color": null,
      "description_width": ""
     }
    },
    "855e83cdb6e24dfc8a2693a9ff921260": {
     "model_module": "@jupyter-widgets/base",
     "model_name": "LayoutModel",
     "model_module_version": "1.2.0",
     "state": {
      "_model_module": "@jupyter-widgets/base",
      "_model_module_version": "1.2.0",
      "_model_name": "LayoutModel",
      "_view_count": null,
      "_view_module": "@jupyter-widgets/base",
      "_view_module_version": "1.2.0",
      "_view_name": "LayoutView",
      "align_content": null,
      "align_items": null,
      "align_self": null,
      "border": null,
      "bottom": null,
      "display": null,
      "flex": null,
      "flex_flow": null,
      "grid_area": null,
      "grid_auto_columns": null,
      "grid_auto_flow": null,
      "grid_auto_rows": null,
      "grid_column": null,
      "grid_gap": null,
      "grid_row": null,
      "grid_template_areas": null,
      "grid_template_columns": null,
      "grid_template_rows": null,
      "height": null,
      "justify_content": null,
      "justify_items": null,
      "left": null,
      "margin": null,
      "max_height": null,
      "max_width": null,
      "min_height": null,
      "min_width": null,
      "object_fit": null,
      "object_position": null,
      "order": null,
      "overflow": null,
      "overflow_x": null,
      "overflow_y": null,
      "padding": null,
      "right": null,
      "top": null,
      "visibility": null,
      "width": null
     }
    },
    "0a777093d2b64a84a50ca50e74d0b24c": {
     "model_module": "@jupyter-widgets/controls",
     "model_name": "DescriptionStyleModel",
     "model_module_version": "1.5.0",
     "state": {
      "_model_module": "@jupyter-widgets/controls",
      "_model_module_version": "1.5.0",
      "_model_name": "DescriptionStyleModel",
      "_view_count": null,
      "_view_module": "@jupyter-widgets/base",
      "_view_module_version": "1.2.0",
      "_view_name": "StyleView",
      "description_width": ""
     }
    },
    "18c45444dc72484f939256521c106685": {
     "model_module": "@jupyter-widgets/controls",
     "model_name": "HBoxModel",
     "model_module_version": "1.5.0",
     "state": {
      "_dom_classes": [],
      "_model_module": "@jupyter-widgets/controls",
      "_model_module_version": "1.5.0",
      "_model_name": "HBoxModel",
      "_view_count": null,
      "_view_module": "@jupyter-widgets/controls",
      "_view_module_version": "1.5.0",
      "_view_name": "HBoxView",
      "box_style": "",
      "children": [
       "IPY_MODEL_bc44a844a33b4101aa41ace1e1ec3cdb",
       "IPY_MODEL_1c38bc94d3754adb845d90c1ffe54382",
       "IPY_MODEL_ad975baa2dd642b3b23ce11c3e667721"
      ],
      "layout": "IPY_MODEL_3d20f19a300c4b33a48724b5b3d1810d"
     }
    },
    "bc44a844a33b4101aa41ace1e1ec3cdb": {
     "model_module": "@jupyter-widgets/controls",
     "model_name": "HTMLModel",
     "model_module_version": "1.5.0",
     "state": {
      "_dom_classes": [],
      "_model_module": "@jupyter-widgets/controls",
      "_model_module_version": "1.5.0",
      "_model_name": "HTMLModel",
      "_view_count": null,
      "_view_module": "@jupyter-widgets/controls",
      "_view_module_version": "1.5.0",
      "_view_name": "HTMLView",
      "description": "",
      "description_tooltip": null,
      "layout": "IPY_MODEL_90b921e94df34ded9dc9d885ca4c9a81",
      "placeholder": "​",
      "style": "IPY_MODEL_23d861147884485289e8f6c5bec3db0c",
      "value": "Map: 100%"
     }
    },
    "1c38bc94d3754adb845d90c1ffe54382": {
     "model_module": "@jupyter-widgets/controls",
     "model_name": "FloatProgressModel",
     "model_module_version": "1.5.0",
     "state": {
      "_dom_classes": [],
      "_model_module": "@jupyter-widgets/controls",
      "_model_module_version": "1.5.0",
      "_model_name": "FloatProgressModel",
      "_view_count": null,
      "_view_module": "@jupyter-widgets/controls",
      "_view_module_version": "1.5.0",
      "_view_name": "ProgressView",
      "bar_style": "success",
      "description": "",
      "description_tooltip": null,
      "layout": "IPY_MODEL_9e3c2c347a084a04b185c84264cadcba",
      "max": 1101,
      "min": 0,
      "orientation": "horizontal",
      "style": "IPY_MODEL_28ac0ec3f2ae431484842df18729bce6",
      "value": 1101
     }
    },
    "ad975baa2dd642b3b23ce11c3e667721": {
     "model_module": "@jupyter-widgets/controls",
     "model_name": "HTMLModel",
     "model_module_version": "1.5.0",
     "state": {
      "_dom_classes": [],
      "_model_module": "@jupyter-widgets/controls",
      "_model_module_version": "1.5.0",
      "_model_name": "HTMLModel",
      "_view_count": null,
      "_view_module": "@jupyter-widgets/controls",
      "_view_module_version": "1.5.0",
      "_view_name": "HTMLView",
      "description": "",
      "description_tooltip": null,
      "layout": "IPY_MODEL_2d7f2c7e88764774ab91f05e54da046e",
      "placeholder": "​",
      "style": "IPY_MODEL_68c34f067be046539bb440cf0888fddf",
      "value": " 1101/1101 [00:00&lt;00:00, 3872.00 examples/s]"
     }
    },
    "3d20f19a300c4b33a48724b5b3d1810d": {
     "model_module": "@jupyter-widgets/base",
     "model_name": "LayoutModel",
     "model_module_version": "1.2.0",
     "state": {
      "_model_module": "@jupyter-widgets/base",
      "_model_module_version": "1.2.0",
      "_model_name": "LayoutModel",
      "_view_count": null,
      "_view_module": "@jupyter-widgets/base",
      "_view_module_version": "1.2.0",
      "_view_name": "LayoutView",
      "align_content": null,
      "align_items": null,
      "align_self": null,
      "border": null,
      "bottom": null,
      "display": null,
      "flex": null,
      "flex_flow": null,
      "grid_area": null,
      "grid_auto_columns": null,
      "grid_auto_flow": null,
      "grid_auto_rows": null,
      "grid_column": null,
      "grid_gap": null,
      "grid_row": null,
      "grid_template_areas": null,
      "grid_template_columns": null,
      "grid_template_rows": null,
      "height": null,
      "justify_content": null,
      "justify_items": null,
      "left": null,
      "margin": null,
      "max_height": null,
      "max_width": null,
      "min_height": null,
      "min_width": null,
      "object_fit": null,
      "object_position": null,
      "order": null,
      "overflow": null,
      "overflow_x": null,
      "overflow_y": null,
      "padding": null,
      "right": null,
      "top": null,
      "visibility": null,
      "width": null
     }
    },
    "90b921e94df34ded9dc9d885ca4c9a81": {
     "model_module": "@jupyter-widgets/base",
     "model_name": "LayoutModel",
     "model_module_version": "1.2.0",
     "state": {
      "_model_module": "@jupyter-widgets/base",
      "_model_module_version": "1.2.0",
      "_model_name": "LayoutModel",
      "_view_count": null,
      "_view_module": "@jupyter-widgets/base",
      "_view_module_version": "1.2.0",
      "_view_name": "LayoutView",
      "align_content": null,
      "align_items": null,
      "align_self": null,
      "border": null,
      "bottom": null,
      "display": null,
      "flex": null,
      "flex_flow": null,
      "grid_area": null,
      "grid_auto_columns": null,
      "grid_auto_flow": null,
      "grid_auto_rows": null,
      "grid_column": null,
      "grid_gap": null,
      "grid_row": null,
      "grid_template_areas": null,
      "grid_template_columns": null,
      "grid_template_rows": null,
      "height": null,
      "justify_content": null,
      "justify_items": null,
      "left": null,
      "margin": null,
      "max_height": null,
      "max_width": null,
      "min_height": null,
      "min_width": null,
      "object_fit": null,
      "object_position": null,
      "order": null,
      "overflow": null,
      "overflow_x": null,
      "overflow_y": null,
      "padding": null,
      "right": null,
      "top": null,
      "visibility": null,
      "width": null
     }
    },
    "23d861147884485289e8f6c5bec3db0c": {
     "model_module": "@jupyter-widgets/controls",
     "model_name": "DescriptionStyleModel",
     "model_module_version": "1.5.0",
     "state": {
      "_model_module": "@jupyter-widgets/controls",
      "_model_module_version": "1.5.0",
      "_model_name": "DescriptionStyleModel",
      "_view_count": null,
      "_view_module": "@jupyter-widgets/base",
      "_view_module_version": "1.2.0",
      "_view_name": "StyleView",
      "description_width": ""
     }
    },
    "9e3c2c347a084a04b185c84264cadcba": {
     "model_module": "@jupyter-widgets/base",
     "model_name": "LayoutModel",
     "model_module_version": "1.2.0",
     "state": {
      "_model_module": "@jupyter-widgets/base",
      "_model_module_version": "1.2.0",
      "_model_name": "LayoutModel",
      "_view_count": null,
      "_view_module": "@jupyter-widgets/base",
      "_view_module_version": "1.2.0",
      "_view_name": "LayoutView",
      "align_content": null,
      "align_items": null,
      "align_self": null,
      "border": null,
      "bottom": null,
      "display": null,
      "flex": null,
      "flex_flow": null,
      "grid_area": null,
      "grid_auto_columns": null,
      "grid_auto_flow": null,
      "grid_auto_rows": null,
      "grid_column": null,
      "grid_gap": null,
      "grid_row": null,
      "grid_template_areas": null,
      "grid_template_columns": null,
      "grid_template_rows": null,
      "height": null,
      "justify_content": null,
      "justify_items": null,
      "left": null,
      "margin": null,
      "max_height": null,
      "max_width": null,
      "min_height": null,
      "min_width": null,
      "object_fit": null,
      "object_position": null,
      "order": null,
      "overflow": null,
      "overflow_x": null,
      "overflow_y": null,
      "padding": null,
      "right": null,
      "top": null,
      "visibility": null,
      "width": null
     }
    },
    "28ac0ec3f2ae431484842df18729bce6": {
     "model_module": "@jupyter-widgets/controls",
     "model_name": "ProgressStyleModel",
     "model_module_version": "1.5.0",
     "state": {
      "_model_module": "@jupyter-widgets/controls",
      "_model_module_version": "1.5.0",
      "_model_name": "ProgressStyleModel",
      "_view_count": null,
      "_view_module": "@jupyter-widgets/base",
      "_view_module_version": "1.2.0",
      "_view_name": "StyleView",
      "bar_color": null,
      "description_width": ""
     }
    },
    "2d7f2c7e88764774ab91f05e54da046e": {
     "model_module": "@jupyter-widgets/base",
     "model_name": "LayoutModel",
     "model_module_version": "1.2.0",
     "state": {
      "_model_module": "@jupyter-widgets/base",
      "_model_module_version": "1.2.0",
      "_model_name": "LayoutModel",
      "_view_count": null,
      "_view_module": "@jupyter-widgets/base",
      "_view_module_version": "1.2.0",
      "_view_name": "LayoutView",
      "align_content": null,
      "align_items": null,
      "align_self": null,
      "border": null,
      "bottom": null,
      "display": null,
      "flex": null,
      "flex_flow": null,
      "grid_area": null,
      "grid_auto_columns": null,
      "grid_auto_flow": null,
      "grid_auto_rows": null,
      "grid_column": null,
      "grid_gap": null,
      "grid_row": null,
      "grid_template_areas": null,
      "grid_template_columns": null,
      "grid_template_rows": null,
      "height": null,
      "justify_content": null,
      "justify_items": null,
      "left": null,
      "margin": null,
      "max_height": null,
      "max_width": null,
      "min_height": null,
      "min_width": null,
      "object_fit": null,
      "object_position": null,
      "order": null,
      "overflow": null,
      "overflow_x": null,
      "overflow_y": null,
      "padding": null,
      "right": null,
      "top": null,
      "visibility": null,
      "width": null
     }
    },
    "68c34f067be046539bb440cf0888fddf": {
     "model_module": "@jupyter-widgets/controls",
     "model_name": "DescriptionStyleModel",
     "model_module_version": "1.5.0",
     "state": {
      "_model_module": "@jupyter-widgets/controls",
      "_model_module_version": "1.5.0",
      "_model_name": "DescriptionStyleModel",
      "_view_count": null,
      "_view_module": "@jupyter-widgets/base",
      "_view_module_version": "1.2.0",
      "_view_name": "StyleView",
      "description_width": ""
     }
    },
    "5b4061428b38477e94a8bfb23b71101f": {
     "model_module": "@jupyter-widgets/controls",
     "model_name": "HBoxModel",
     "model_module_version": "1.5.0",
     "state": {
      "_dom_classes": [],
      "_model_module": "@jupyter-widgets/controls",
      "_model_module_version": "1.5.0",
      "_model_name": "HBoxModel",
      "_view_count": null,
      "_view_module": "@jupyter-widgets/controls",
      "_view_module_version": "1.5.0",
      "_view_name": "HBoxView",
      "box_style": "",
      "children": [
       "IPY_MODEL_66e46c48344a4cea87787a0f814a17e0",
       "IPY_MODEL_068dbfc066d6420eaf6b53ed66f46e6c",
       "IPY_MODEL_37375352454d4b4d9d361688728224a1"
      ],
      "layout": "IPY_MODEL_c6273e7bfee14a8f9b957faa3764f984"
     }
    },
    "66e46c48344a4cea87787a0f814a17e0": {
     "model_module": "@jupyter-widgets/controls",
     "model_name": "HTMLModel",
     "model_module_version": "1.5.0",
     "state": {
      "_dom_classes": [],
      "_model_module": "@jupyter-widgets/controls",
      "_model_module_version": "1.5.0",
      "_model_name": "HTMLModel",
      "_view_count": null,
      "_view_module": "@jupyter-widgets/controls",
      "_view_module_version": "1.5.0",
      "_view_name": "HTMLView",
      "description": "",
      "description_tooltip": null,
      "layout": "IPY_MODEL_884c07df8be94e8d92d941282fa52081",
      "placeholder": "​",
      "style": "IPY_MODEL_6890bc1a12204b138fb79659ab815a86",
      "value": "Map: 100%"
     }
    },
    "068dbfc066d6420eaf6b53ed66f46e6c": {
     "model_module": "@jupyter-widgets/controls",
     "model_name": "FloatProgressModel",
     "model_module_version": "1.5.0",
     "state": {
      "_dom_classes": [],
      "_model_module": "@jupyter-widgets/controls",
      "_model_module_version": "1.5.0",
      "_model_name": "FloatProgressModel",
      "_view_count": null,
      "_view_module": "@jupyter-widgets/controls",
      "_view_module_version": "1.5.0",
      "_view_name": "ProgressView",
      "bar_style": "success",
      "description": "",
      "description_tooltip": null,
      "layout": "IPY_MODEL_7515c8f56efe4167990d1f15af9ad47d",
      "max": 2210,
      "min": 0,
      "orientation": "horizontal",
      "style": "IPY_MODEL_a7864b4737eb433088383cc38df4bb7c",
      "value": 2210
     }
    },
    "37375352454d4b4d9d361688728224a1": {
     "model_module": "@jupyter-widgets/controls",
     "model_name": "HTMLModel",
     "model_module_version": "1.5.0",
     "state": {
      "_dom_classes": [],
      "_model_module": "@jupyter-widgets/controls",
      "_model_module_version": "1.5.0",
      "_model_name": "HTMLModel",
      "_view_count": null,
      "_view_module": "@jupyter-widgets/controls",
      "_view_module_version": "1.5.0",
      "_view_name": "HTMLView",
      "description": "",
      "description_tooltip": null,
      "layout": "IPY_MODEL_bbfde6ba0d49476ca1f33be9cd2fcf42",
      "placeholder": "​",
      "style": "IPY_MODEL_076ece48ccf84c6ca2d3648c08410819",
      "value": " 2210/2210 [00:00&lt;00:00, 4738.57 examples/s]"
     }
    },
    "c6273e7bfee14a8f9b957faa3764f984": {
     "model_module": "@jupyter-widgets/base",
     "model_name": "LayoutModel",
     "model_module_version": "1.2.0",
     "state": {
      "_model_module": "@jupyter-widgets/base",
      "_model_module_version": "1.2.0",
      "_model_name": "LayoutModel",
      "_view_count": null,
      "_view_module": "@jupyter-widgets/base",
      "_view_module_version": "1.2.0",
      "_view_name": "LayoutView",
      "align_content": null,
      "align_items": null,
      "align_self": null,
      "border": null,
      "bottom": null,
      "display": null,
      "flex": null,
      "flex_flow": null,
      "grid_area": null,
      "grid_auto_columns": null,
      "grid_auto_flow": null,
      "grid_auto_rows": null,
      "grid_column": null,
      "grid_gap": null,
      "grid_row": null,
      "grid_template_areas": null,
      "grid_template_columns": null,
      "grid_template_rows": null,
      "height": null,
      "justify_content": null,
      "justify_items": null,
      "left": null,
      "margin": null,
      "max_height": null,
      "max_width": null,
      "min_height": null,
      "min_width": null,
      "object_fit": null,
      "object_position": null,
      "order": null,
      "overflow": null,
      "overflow_x": null,
      "overflow_y": null,
      "padding": null,
      "right": null,
      "top": null,
      "visibility": null,
      "width": null
     }
    },
    "884c07df8be94e8d92d941282fa52081": {
     "model_module": "@jupyter-widgets/base",
     "model_name": "LayoutModel",
     "model_module_version": "1.2.0",
     "state": {
      "_model_module": "@jupyter-widgets/base",
      "_model_module_version": "1.2.0",
      "_model_name": "LayoutModel",
      "_view_count": null,
      "_view_module": "@jupyter-widgets/base",
      "_view_module_version": "1.2.0",
      "_view_name": "LayoutView",
      "align_content": null,
      "align_items": null,
      "align_self": null,
      "border": null,
      "bottom": null,
      "display": null,
      "flex": null,
      "flex_flow": null,
      "grid_area": null,
      "grid_auto_columns": null,
      "grid_auto_flow": null,
      "grid_auto_rows": null,
      "grid_column": null,
      "grid_gap": null,
      "grid_row": null,
      "grid_template_areas": null,
      "grid_template_columns": null,
      "grid_template_rows": null,
      "height": null,
      "justify_content": null,
      "justify_items": null,
      "left": null,
      "margin": null,
      "max_height": null,
      "max_width": null,
      "min_height": null,
      "min_width": null,
      "object_fit": null,
      "object_position": null,
      "order": null,
      "overflow": null,
      "overflow_x": null,
      "overflow_y": null,
      "padding": null,
      "right": null,
      "top": null,
      "visibility": null,
      "width": null
     }
    },
    "6890bc1a12204b138fb79659ab815a86": {
     "model_module": "@jupyter-widgets/controls",
     "model_name": "DescriptionStyleModel",
     "model_module_version": "1.5.0",
     "state": {
      "_model_module": "@jupyter-widgets/controls",
      "_model_module_version": "1.5.0",
      "_model_name": "DescriptionStyleModel",
      "_view_count": null,
      "_view_module": "@jupyter-widgets/base",
      "_view_module_version": "1.2.0",
      "_view_name": "StyleView",
      "description_width": ""
     }
    },
    "7515c8f56efe4167990d1f15af9ad47d": {
     "model_module": "@jupyter-widgets/base",
     "model_name": "LayoutModel",
     "model_module_version": "1.2.0",
     "state": {
      "_model_module": "@jupyter-widgets/base",
      "_model_module_version": "1.2.0",
      "_model_name": "LayoutModel",
      "_view_count": null,
      "_view_module": "@jupyter-widgets/base",
      "_view_module_version": "1.2.0",
      "_view_name": "LayoutView",
      "align_content": null,
      "align_items": null,
      "align_self": null,
      "border": null,
      "bottom": null,
      "display": null,
      "flex": null,
      "flex_flow": null,
      "grid_area": null,
      "grid_auto_columns": null,
      "grid_auto_flow": null,
      "grid_auto_rows": null,
      "grid_column": null,
      "grid_gap": null,
      "grid_row": null,
      "grid_template_areas": null,
      "grid_template_columns": null,
      "grid_template_rows": null,
      "height": null,
      "justify_content": null,
      "justify_items": null,
      "left": null,
      "margin": null,
      "max_height": null,
      "max_width": null,
      "min_height": null,
      "min_width": null,
      "object_fit": null,
      "object_position": null,
      "order": null,
      "overflow": null,
      "overflow_x": null,
      "overflow_y": null,
      "padding": null,
      "right": null,
      "top": null,
      "visibility": null,
      "width": null
     }
    },
    "a7864b4737eb433088383cc38df4bb7c": {
     "model_module": "@jupyter-widgets/controls",
     "model_name": "ProgressStyleModel",
     "model_module_version": "1.5.0",
     "state": {
      "_model_module": "@jupyter-widgets/controls",
      "_model_module_version": "1.5.0",
      "_model_name": "ProgressStyleModel",
      "_view_count": null,
      "_view_module": "@jupyter-widgets/base",
      "_view_module_version": "1.2.0",
      "_view_name": "StyleView",
      "bar_color": null,
      "description_width": ""
     }
    },
    "bbfde6ba0d49476ca1f33be9cd2fcf42": {
     "model_module": "@jupyter-widgets/base",
     "model_name": "LayoutModel",
     "model_module_version": "1.2.0",
     "state": {
      "_model_module": "@jupyter-widgets/base",
      "_model_module_version": "1.2.0",
      "_model_name": "LayoutModel",
      "_view_count": null,
      "_view_module": "@jupyter-widgets/base",
      "_view_module_version": "1.2.0",
      "_view_name": "LayoutView",
      "align_content": null,
      "align_items": null,
      "align_self": null,
      "border": null,
      "bottom": null,
      "display": null,
      "flex": null,
      "flex_flow": null,
      "grid_area": null,
      "grid_auto_columns": null,
      "grid_auto_flow": null,
      "grid_auto_rows": null,
      "grid_column": null,
      "grid_gap": null,
      "grid_row": null,
      "grid_template_areas": null,
      "grid_template_columns": null,
      "grid_template_rows": null,
      "height": null,
      "justify_content": null,
      "justify_items": null,
      "left": null,
      "margin": null,
      "max_height": null,
      "max_width": null,
      "min_height": null,
      "min_width": null,
      "object_fit": null,
      "object_position": null,
      "order": null,
      "overflow": null,
      "overflow_x": null,
      "overflow_y": null,
      "padding": null,
      "right": null,
      "top": null,
      "visibility": null,
      "width": null
     }
    },
    "076ece48ccf84c6ca2d3648c08410819": {
     "model_module": "@jupyter-widgets/controls",
     "model_name": "DescriptionStyleModel",
     "model_module_version": "1.5.0",
     "state": {
      "_model_module": "@jupyter-widgets/controls",
      "_model_module_version": "1.5.0",
      "_model_name": "DescriptionStyleModel",
      "_view_count": null,
      "_view_module": "@jupyter-widgets/base",
      "_view_module_version": "1.2.0",
      "_view_name": "StyleView",
      "description_width": ""
     }
    }
   }
  }
 },
 "cells": [
  {
   "cell_type": "markdown",
   "metadata": {
    "id": "view-in-github",
    "colab_type": "text"
   },
   "source": []
  },
  {
   "cell_type": "markdown",
   "source": [
    "# **Import Required Libraries** 👇"
   ],
   "metadata": {
    "id": "UwS4aMsMa50l"
   }
  },
  {
   "cell_type": "code",
   "source": [
    "import numpy as np\n",
    "import seaborn as sns\n",
    "import matplotlib.pyplot as plt\n",
    "from datasets import load_dataset\n",
    "from sklearn.pipeline import Pipeline\n",
    "from sklearn.naive_bayes import MultinomialNB\n",
    "from sklearn.feature_extraction.text import CountVectorizer\n",
    "from sklearn.metrics import confusion_matrix, precision_recall_fscore_support"
   ],
   "metadata": {
    "id": "yE2vrIa5a4z1",
    "ExecuteTime": {
     "end_time": "2024-10-31T00:03:28.326298Z",
     "start_time": "2024-10-31T00:03:27.209824Z"
    }
   },
   "outputs": [
    {
     "name": "stderr",
     "output_type": "stream",
     "text": [
      "/home/mado/Documents/SST_Text-Classification/myenv/lib/python3.12/site-packages/tqdm/auto.py:21: TqdmWarning: IProgress not found. Please update jupyter and ipywidgets. See https://ipywidgets.readthedocs.io/en/stable/user_install.html\n",
      "  from .autonotebook import tqdm as notebook_tqdm\n"
     ]
    }
   ],
   "execution_count": 1
  },
  {
   "cell_type": "markdown",
   "source": [
    "# **Data Loading And Preprocessing** 📚\n",
    "\n",
    "\n",
    "*   Load the SST dataset.\n",
    "*   Map sentiment scores to classes as specified.\n",
    "  \n",
    "\n",
    "\n",
    "\n"
   ],
   "metadata": {
    "id": "faWiWt6raczc"
   }
  },
  {
   "cell_type": "code",
   "metadata": {
    "id": "T1EDlvrzaZSs",
    "colab": {
     "base_uri": "https://localhost:8080/"
    },
    "outputId": "5fe0131b-e6ac-4635-f814-5cb8cfe42927",
    "ExecuteTime": {
     "end_time": "2024-10-31T00:03:30.267225Z",
     "start_time": "2024-10-31T00:03:28.334525Z"
    }
   },
   "source": [
    "# Load the SST dataset\n",
    "dataset = load_dataset('sst')\n",
    "\n",
    "# Print keys in one example\n",
    "print(dataset['train'][0].keys())"
   ],
   "outputs": [
    {
     "name": "stdout",
     "output_type": "stream",
     "text": [
      "dict_keys(['sentence', 'label', 'tokens', 'tree'])\n"
     ]
    }
   ],
   "execution_count": 2
  },
  {
   "cell_type": "code",
   "source": [
    "# Map sentiment scores to classes\n",
    "def map_sentiment_to_class(score):\n",
    "    if score <= 0.2:\n",
    "        return 0  # very negative\n",
    "    elif score <= 0.4:\n",
    "        return 1  # negative\n",
    "    elif score <= 0.6:\n",
    "        return 2  # neutral\n",
    "    elif score <= 0.8:\n",
    "        return 3  # positive\n",
    "    else:\n",
    "        return 4  # very positive\n",
    "\n",
    "# Apply the mapping to the dataset\n",
    "dataset = dataset.map(lambda example: {'text': example['sentence'], 'label': map_sentiment_to_class(example['label'])})\n",
    "\n",
    "# Split the dataset into training and testing sets\n",
    "train_dataset = dataset['train']\n",
    "test_dataset = dataset['test']\n",
    "\n",
    "# Display the first few examples\n",
    "print(train_dataset[0])\n",
    "print(test_dataset[0])"
   ],
   "metadata": {
    "colab": {
     "base_uri": "https://localhost:8080/",
     "height": 168,
     "referenced_widgets": [
      "ac9fb4d9499c4603bbef38c418a728e5",
      "89a80ddd444e45ccb4a3f1155f8f1cc4",
      "b8461b8b07774ab98831c87d65a50ff8",
      "847d72de25944cff81fd8c1fa4f79e9a",
      "f1e058d00a924fae906205f5f4a09729",
      "f7ae2159ebc146ba96ff10544f550046",
      "8c05c9ce7e7e42b5b53be9f9cdbd07d6",
      "0a6e0629e29e4db5bae1967cc1c29a4c",
      "7668a8febd9a4ec9a5b130b7bb9c9508",
      "855e83cdb6e24dfc8a2693a9ff921260",
      "0a777093d2b64a84a50ca50e74d0b24c",
      "18c45444dc72484f939256521c106685",
      "bc44a844a33b4101aa41ace1e1ec3cdb",
      "1c38bc94d3754adb845d90c1ffe54382",
      "ad975baa2dd642b3b23ce11c3e667721",
      "3d20f19a300c4b33a48724b5b3d1810d",
      "90b921e94df34ded9dc9d885ca4c9a81",
      "23d861147884485289e8f6c5bec3db0c",
      "9e3c2c347a084a04b185c84264cadcba",
      "28ac0ec3f2ae431484842df18729bce6",
      "2d7f2c7e88764774ab91f05e54da046e",
      "68c34f067be046539bb440cf0888fddf",
      "5b4061428b38477e94a8bfb23b71101f",
      "66e46c48344a4cea87787a0f814a17e0",
      "068dbfc066d6420eaf6b53ed66f46e6c",
      "37375352454d4b4d9d361688728224a1",
      "c6273e7bfee14a8f9b957faa3764f984",
      "884c07df8be94e8d92d941282fa52081",
      "6890bc1a12204b138fb79659ab815a86",
      "7515c8f56efe4167990d1f15af9ad47d",
      "a7864b4737eb433088383cc38df4bb7c",
      "bbfde6ba0d49476ca1f33be9cd2fcf42",
      "076ece48ccf84c6ca2d3648c08410819"
     ]
    },
    "id": "ggwIhihQ_mtn",
    "outputId": "e49407b4-afa2-4cd2-b056-61480ef1b3f9",
    "ExecuteTime": {
     "end_time": "2024-10-31T00:03:31.395943Z",
     "start_time": "2024-10-31T00:03:30.436849Z"
    }
   },
   "outputs": [
    {
     "name": "stderr",
     "output_type": "stream",
     "text": [
      "Map: 100%|██████████| 8544/8544 [00:00<00:00, 12736.92 examples/s]\n",
      "Map: 100%|██████████| 1101/1101 [00:00<00:00, 10519.13 examples/s]\n",
      "Map: 100%|██████████| 2210/2210 [00:00<00:00, 13595.40 examples/s]"
     ]
    },
    {
     "name": "stdout",
     "output_type": "stream",
     "text": [
      "{'sentence': \"The Rock is destined to be the 21st Century 's new `` Conan '' and that he 's going to make a splash even greater than Arnold Schwarzenegger , Jean-Claud Van Damme or Steven Segal .\", 'label': 3.0, 'tokens': \"The|Rock|is|destined|to|be|the|21st|Century|'s|new|``|Conan|''|and|that|he|'s|going|to|make|a|splash|even|greater|than|Arnold|Schwarzenegger|,|Jean-Claud|Van|Damme|or|Steven|Segal|.\", 'tree': '70|70|68|67|63|62|61|60|58|58|57|56|56|64|65|55|54|53|52|51|49|47|47|46|46|45|40|40|41|39|38|38|43|37|37|69|44|39|42|41|42|43|44|45|50|48|48|49|50|51|52|53|54|55|66|57|59|59|60|61|62|63|64|65|66|67|68|69|71|71|0', 'text': \"The Rock is destined to be the 21st Century 's new `` Conan '' and that he 's going to make a splash even greater than Arnold Schwarzenegger , Jean-Claud Van Damme or Steven Segal .\"}\n",
      "{'sentence': 'Effective but too-tepid biopic', 'label': 2.0, 'tokens': 'Effective|but|too-tepid|biopic', 'tree': '6|6|5|5|7|7|0', 'text': 'Effective but too-tepid biopic'}\n"
     ]
    },
    {
     "name": "stderr",
     "output_type": "stream",
     "text": [
      "\n"
     ]
    }
   ],
   "execution_count": 3
  },
  {
   "cell_type": "markdown",
   "source": [
    "# **Naive Bayes Implementation** 🎰\n",
    "\n",
    "- Implement the Naive Bayes algorithm using NumPy.\n",
    "- Train the Naive Bayes classifier on the training data.\n",
    "- Test the Naive Bayes classifier on the test data."
   ],
   "metadata": {
    "id": "ZXXusEz7bT7J"
   }
  },
  {
   "cell_type": "markdown",
   "source": [
    "# ***Training Function \"Learning\"*** 🏫"
   ],
   "metadata": {
    "id": "f2SCVrJQEmdy"
   }
  },
  {
   "cell_type": "code",
   "source": [
    "def train_naive_bayes(train_data):\n",
    "\n",
    "    # A] Calculate P(c) \"Prior Probabilities\":\n",
    "\n",
    "    N_doc = len(train_data)  # Get Total number of documents in the training dataset\n",
    "    classes, counts = np.unique([data['label'] for data in train_data], return_counts=True) # Calculate the number of documents for each class and their counts in np arrays\n",
    "    logprior = np.log(counts / N_doc)  # Calculate the log of the prior probabilities\n",
    "\n",
    "    # ----------------------------------------------------------------------------------------------------------------------------------------------------------------------------\n",
    "\n",
    "    # B] Calculate P(w|c) \"Cinditional Probabilities\":\n",
    "\n",
    "    vocabulary = set()  # Initialize an empty set to store the unique words in the vocabulary (no redundancy)\n",
    "    bigdoc = {c: [] for c in classes}  # Initialize an empty dictionary to store the words for each class\n",
    "\n",
    "    for data in train_data:\n",
    "        c = data['label']  # Get the class label of the document\n",
    "        bigdoc[c].extend(data['text'].split())  # Add the words from the document to the corresponding class\n",
    "        vocabulary.update(data['text'].split())  # Update the vocabulary with the words from the document\n",
    "\n",
    "    vocabulary = list(vocabulary)  # Convert the vocabulary set to a list\n",
    "    V = len(vocabulary)  # Calculate the size of the vocabulary\n",
    "    loglikelihood = {}  # Initialize an empty dictionary to store the log likelihood terms\n",
    "\n",
    "    for c in classes:\n",
    "        count_wc = np.array([bigdoc[c].count(w) for w in vocabulary]) # Calculate the count of each word in the vocabulary for the current class\n",
    "        loglikelihood[c] = np.log((count_wc + 1) / (len(bigdoc[c]) + V)) # Calculate the logarithm of the likelihood probabilities (ASSUME using add-1 smoothing!)\n",
    "\n",
    "    # ----------------------------------------------------------------------------------------------------------------------------------------------------------------------------\n",
    "\n",
    "    return logprior, loglikelihood, vocabulary\n"
   ],
   "metadata": {
    "id": "B6SdgFRrbeoo",
    "ExecuteTime": {
     "end_time": "2024-10-31T00:03:31.439057Z",
     "start_time": "2024-10-31T00:03:31.430189Z"
    }
   },
   "outputs": [],
   "execution_count": 4
  },
  {
   "cell_type": "markdown",
   "source": [
    "# ***Visualize the distribution of Log probs of each CLASS*** 👀"
   ],
   "metadata": {
    "id": "7gwB0DALMpJa"
   }
  },
  {
   "cell_type": "code",
   "source": [
    "def plot_log_probabilities(loglikelihood, vocabulary):\n",
    "    plt.figure(figsize=(12, 6))\n",
    "    for c, logprobs in loglikelihood.items():\n",
    "        plt.hist(logprobs, bins=50, alpha=0.5, label=f'Class {c}')\n",
    "    plt.xlabel('Log Probability')\n",
    "    plt.ylabel('Frequency')\n",
    "    plt.title('Distribution of Log Probabilities for Each Class')\n",
    "    plt.legend()\n",
    "    plt.show()\n",
    "\n"
   ],
   "metadata": {
    "colab": {
     "base_uri": "https://localhost:8080/",
     "height": 578
    },
    "id": "DJhBhJDUMopL",
    "outputId": "47cc3910-7fe4-49e2-db6c-0d702ccb6e97",
    "ExecuteTime": {
     "end_time": "2024-10-31T00:04:04.440991Z",
     "start_time": "2024-10-31T00:04:04.435770Z"
    }
   },
   "outputs": [],
   "execution_count": 6
  },
  {
   "cell_type": "markdown",
   "source": [
    "# ***Test Function \"Predicting\"*** 🤔"
   ],
   "metadata": {
    "id": "-HdqAU0fEs3A"
   }
  },
  {
   "cell_type": "code",
   "source": [
    "def test_naive_bayes(test_data, logprior, loglikelihood, vocabulary):\n",
    "    predictions = []  # Initialize an empty list to store the predicted classes\n",
    "    for data in test_data:\n",
    "        max_sum = float('-inf')  # Initialize max_sum to negative infinity\n",
    "        best_class = None  # Initialize best_class to None\n",
    "        for c, logprior_c in enumerate(logprior):\n",
    "            sum_c = logprior_c  # Start sum_c with the log prior for class c\n",
    "            for word in data['text'].split():\n",
    "                if word in vocabulary:  # Check if the word is in the vocabulary\n",
    "                    word_index = vocabulary.index(word)\n",
    "                    sum_c += loglikelihood[c][word_index]  # Add the log likelihood for the current word and class to the sum\n",
    "            if sum_c > max_sum:\n",
    "                max_sum = sum_c\n",
    "                best_class = c\n",
    "        predictions.append(best_class)  # Append the best class as the prediction\n",
    "\n",
    "    return predictions"
   ],
   "metadata": {
    "id": "XLDGWENScKBX",
    "ExecuteTime": {
     "end_time": "2024-10-31T00:04:07.527647Z",
     "start_time": "2024-10-31T00:04:07.522453Z"
    }
   },
   "outputs": [],
   "execution_count": 7
  },
  {
   "metadata": {
    "ExecuteTime": {
     "end_time": "2024-10-31T00:05:55.087935Z",
     "start_time": "2024-10-31T00:04:10.485089Z"
    }
   },
   "cell_type": "code",
   "source": [
    "cnt=0\n",
    "logprior, loglikelihood, vocabulary=train_naive_bayes(train_dataset)\n",
    "predictions = test_naive_bayes(test_dataset, logprior, loglikelihood, vocabulary)\n",
    "for i in range(len(predictions)):\n",
    "    if predictions[i]==test_dataset[i]['label']:\n",
    "        cnt+=1\n",
    "\n",
    "# compute accuracy\n",
    "accuracy = cnt/len(test_dataset)\n",
    "\n",
    "print(f'Test Accuracy: {accuracy}')\n",
    "print(f'Number of wrong predicted sentences:{len(test_dataset)-cnt}')"
   ],
   "outputs": [
    {
     "name": "stdout",
     "output_type": "stream",
     "text": [
      "Test Accuracy: 0.39683257918552034\n",
      "Number of wrong predicted sentences:1333\n"
     ]
    }
   ],
   "execution_count": 8
  },
  {
   "metadata": {
    "ExecuteTime": {
     "end_time": "2024-10-31T00:07:18.421686Z",
     "start_time": "2024-10-31T00:07:18.416430Z"
    }
   },
   "cell_type": "code",
   "source": "print(len(vocabulary))",
   "outputs": [
    {
     "name": "stdout",
     "output_type": "stream",
     "text": [
      "18278\n"
     ]
    }
   ],
   "execution_count": 9
  },
  {
   "cell_type": "markdown",
   "source": [
    "# ***Let's Try Our Model!*** 👀\n",
    "\n",
    "> Indented block\n",
    "\n"
   ],
   "metadata": {
    "id": "U7lMvyz5Eysd"
   }
  },
  {
   "cell_type": "code",
   "source": [
    "# Train the Naive Bayes classifier\n",
    "logprior, loglikelihood, vocabulary = train_naive_bayes(train_dataset)\n",
    "\n",
    "# Test the Naive Bayes classifier\n",
    "predictions = test_naive_bayes(test_dataset, logprior, loglikelihood, vocabulary)\n",
    "\n",
    "# Extract the original labels from the test dataset\n",
    "true_labels = [data['label'] for data in test_dataset]\n",
    "\n",
    "# Display the first few predictions and original labels\n",
    "for i in range(5):\n",
    "    print(f\"Prediction: {predictions[i]}, Original Label: {true_labels[i]}\")"
   ],
   "metadata": {
    "id": "EUS6m7zNcMfm",
    "colab": {
     "base_uri": "https://localhost:8080/"
    },
    "outputId": "6cbff850-876e-4cdb-a72f-e1f70b53daf8"
   },
   "execution_count": null,
   "outputs": [
    {
     "output_type": "stream",
     "name": "stdout",
     "text": [
      "Prediction: 2, Original Label: 2.0\n",
      "Prediction: 3, Original Label: 3.0\n",
      "Prediction: 3, Original Label: 4.0\n",
      "Prediction: 3, Original Label: 2.0\n",
      "Prediction: 4, Original Label: 4.0\n"
     ]
    }
   ]
  },
  {
   "cell_type": "markdown",
   "source": [
    "# **Confusion Matrix & Evaluation Metrics** 😞\n",
    "\n",
    "- Implement a function to generate the confusion matrix.\n",
    "- Compute precision, recall, and F1 score per class and macro averaged."
   ],
   "metadata": {
    "id": "I7tljI4bcW7F"
   }
  },
  {
   "cell_type": "code",
   "source": [
    "def confusion_matrix(y_true, y_pred, num_classes):\n",
    "    cm = np.zeros((num_classes, num_classes), dtype=int)\n",
    "    for true, pred in zip(y_true, y_pred):\n",
    "        cm[int(true), int(pred)] += 1\n",
    "    return cm\n",
    "\n",
    "def plot_confusion_matrix(conf_matrix, num_classes):\n",
    "    plt.figure(figsize=(8, 6))\n",
    "    sns.set(font_scale=1.2)  # Set font scale\n",
    "    sns.heatmap(conf_matrix, annot=True, fmt='d', cmap='Blues', xticklabels=range(num_classes), yticklabels=range(num_classes))\n",
    "    plt.xlabel('Predicted')\n",
    "    plt.ylabel('True')\n",
    "    plt.title('Confusion Matrix')\n",
    "    plt.show()"
   ],
   "metadata": {
    "id": "NU5zGZ7xcaZE"
   },
   "execution_count": null,
   "outputs": []
  },
  {
   "cell_type": "code",
   "source": [
    "def precision_recall_f1(cm):\n",
    "    precision = np.zeros(len(cm))\n",
    "    recall = np.zeros(len(cm))\n",
    "    f1 = np.zeros(len(cm))\n",
    "    for i in range(len(cm)):\n",
    "        tp = cm[i, i]\n",
    "        fp = np.sum(cm[:, i]) - tp\n",
    "        fn = np.sum(cm[i, :]) - tp\n",
    "        precision[i] = tp / (tp + fp) if tp + fp > 0 else 0\n",
    "        recall[i] = tp / (tp + fn) if tp + fn > 0 else 0\n",
    "        f1[i] = 2 * precision[i] * recall[i] / (precision[i] + recall[i]) if precision[i] + recall[i] > 0 else 0\n",
    "    return precision, recall, f1"
   ],
   "metadata": {
    "id": "Z71idcahcieH"
   },
   "execution_count": null,
   "outputs": []
  },
  {
   "cell_type": "code",
   "source": [
    "def plot_metrics_per_class(precision, recall, f1):\n",
    "    labels = ['Class 0', 'Class 1', 'Class 2', 'Class 3', 'Class 4']\n",
    "    x = range(len(labels))\n",
    "\n",
    "    plt.figure(figsize=(10, 6))\n",
    "    bar_width = 0.25\n",
    "\n",
    "    plt.bar(x, precision, bar_width, label='Precision', color='b', align='center')\n",
    "    plt.bar([i + bar_width for i in x], recall, bar_width, label='Recall', color='g', align='center')\n",
    "    plt.bar([i + 2*bar_width for i in x], f1, bar_width, label='F1 Score', color='r', align='center')\n",
    "\n",
    "    plt.xlabel('Class')\n",
    "    plt.ylabel('Score')\n",
    "    plt.title('Metrics per Class')\n",
    "    plt.xticks([i + bar_width for i in x], labels)\n",
    "    plt.legend()\n",
    "    plt.tight_layout()\n",
    "    plt.show()"
   ],
   "metadata": {
    "id": "srGBUGtkJfVF"
   },
   "execution_count": null,
   "outputs": []
  },
  {
   "cell_type": "markdown",
   "source": [
    "# ***Apply Implemented Metrics To Our Model*** 😟"
   ],
   "metadata": {
    "id": "QhC0Lhd_G5S0"
   }
  },
  {
   "cell_type": "code",
   "source": [
    "# Generate and plot the confusion matrix\n",
    "conf_matrix = confusion_matrix([data['label'] for data in test_dataset], predictions, 5)\n",
    "plot_confusion_matrix(conf_matrix, 5)\n",
    "\n",
    "# Compute precision, recall, and F1 score\n",
    "precision, recall, f1 = precision_recall_f1(conf_matrix)\n",
    "\n",
    "# Compute macro averaged precision, recall, and F1 score\n",
    "macro_precision = np.mean(precision)\n",
    "macro_recall = np.mean(recall)\n",
    "macro_f1 = np.mean(f1)\n",
    "\n",
    "# Plot precision, recall, and F1 score per class\n",
    "plot_metrics_per_class(precision, recall, f1)\n",
    "\n",
    "# Plot macro averaged precision, recall, and F1 score\n",
    "plt.figure(figsize=(6, 4))\n",
    "metrics = [macro_precision, macro_recall, macro_f1]\n",
    "labels = ['Precision', 'Recall', 'F1 Score']\n",
    "plt.bar(labels, metrics, color=['b', 'g', 'r'])\n",
    "plt.xlabel('Metric')\n",
    "plt.ylabel('Score')\n",
    "plt.title('Macro Averaged Metrics')\n",
    "plt.show()\n",
    "\n",
    "print(\"\\nPrecision per class:\", precision)\n",
    "print(\"Recall per class:\", recall)\n",
    "print(\"F1 Score per class:\", f1)\n",
    "print(\"\\nMacro Averaged Precision:\", macro_precision)\n",
    "print(\"Macro Averaged Recall:\", macro_recall)\n",
    "print(\"Macro Averaged F1 Score:\", macro_f1)"
   ],
   "metadata": {
    "id": "l9WZD6z9ckKn",
    "colab": {
     "base_uri": "https://localhost:8080/",
     "height": 1000
    },
    "outputId": "c1e65483-b28b-41be-be99-5e1791951057"
   },
   "execution_count": null,
   "outputs": [
    {
     "output_type": "display_data",
     "data": {
      "text/plain": [
       "<Figure size 800x600 with 2 Axes>"
      ],
      "image/png": "[encoded data removed]"
     },
     "metadata": {}
    },
    {
     "output_type": "display_data",
     "data": {
      "text/plain": [
       "<Figure size 1000x600 with 1 Axes>"
      ],
      "image/png": "[encoded data removed]"
     },
     "metadata": {}
    },
    {
     "output_type": "display_data",
     "data": {
      "text/plain": [
       "<Figure size 600x400 with 1 Axes>"
      ],
      "image/png": "[encoded data removed]"
     },
     "metadata": {}
    },
    {
     "output_type": "stream",
     "name": "stdout",
     "text": [
      "\n",
      "Precision per class: [0.34042553 0.44895719 0.2519685  0.35073892 0.58181818]\n",
      "Recall per class: [0.05734767 0.64612954 0.08226221 0.69803922 0.160401  ]\n",
      "F1 Score per class: [0.09815951 0.52979275 0.12403101 0.46688525 0.25147348]\n",
      "\n",
      "Macro Averaged Precision: 0.3947816647654897\n",
      "Macro Averaged Recall: 0.3288359282208981\n",
      "Macro Averaged F1 Score: 0.2940683972753402\n"
     ]
    }
   ]
  },
  {
   "cell_type": "markdown",
   "source": [
    "# **Comparison with scikit-learn**\n",
    "\n",
    "- Use scikit-learn to reproduce the results using a pipeline of CountVectorizer followed by MultinomialNB."
   ],
   "metadata": {
    "id": "jmgdrt4BcmB2"
   }
  },
  {
   "cell_type": "code",
   "source": [
    "# Define the scikit-learn pipeline\n",
    "pipeline = Pipeline([\n",
    "    ('vect', CountVectorizer()),\n",
    "    ('clf', MultinomialNB())\n",
    "])"
   ],
   "metadata": {
    "id": "tskyZyVucwWP"
   },
   "execution_count": null,
   "outputs": []
  },
  {
   "cell_type": "code",
   "source": [
    "# Train the model\n",
    "pipeline.fit([data['text'] for data in train_dataset], [data['label'] for data in train_dataset])"
   ],
   "metadata": {
    "id": "XO0vF914c8L7",
    "colab": {
     "base_uri": "https://localhost:8080/",
     "height": 125
    },
    "outputId": "e4fcdb1e-1aa1-4415-a319-30e6c3eb7ba3"
   },
   "execution_count": null,
   "outputs": [
    {
     "output_type": "execute_result",
     "data": {
      "text/plain": [
       "Pipeline(steps=[('vect', CountVectorizer()), ('clf', MultinomialNB())])"
      ],
      "text/html": [
       "<style>#sk-container-id-1 {color: black;background-color: white;}#sk-container-id-1 pre{padding: 0;}#sk-container-id-1 div.sk-toggleable {background-color: white;}#sk-container-id-1 label.sk-toggleable__label {cursor: pointer;display: block;width: 100%;margin-bottom: 0;padding: 0.3em;box-sizing: border-box;text-align: center;}#sk-container-id-1 label.sk-toggleable__label-arrow:before {content: \"▸\";float: left;margin-right: 0.25em;color: #696969;}#sk-container-id-1 label.sk-toggleable__label-arrow:hover:before {color: black;}#sk-container-id-1 div.sk-estimator:hover label.sk-toggleable__label-arrow:before {color: black;}#sk-container-id-1 div.sk-toggleable__content {max-height: 0;max-width: 0;overflow: hidden;text-align: left;background-color: #f0f8ff;}#sk-container-id-1 div.sk-toggleable__content pre {margin: 0.2em;color: black;border-radius: 0.25em;background-color: #f0f8ff;}#sk-container-id-1 input.sk-toggleable__control:checked~div.sk-toggleable__content {max-height: 200px;max-width: 100%;overflow: auto;}#sk-container-id-1 input.sk-toggleable__control:checked~label.sk-toggleable__label-arrow:before {content: \"▾\";}#sk-container-id-1 div.sk-estimator input.sk-toggleable__control:checked~label.sk-toggleable__label {background-color: #d4ebff;}#sk-container-id-1 div.sk-label input.sk-toggleable__control:checked~label.sk-toggleable__label {background-color: #d4ebff;}#sk-container-id-1 input.sk-hidden--visually {border: 0;clip: rect(1px 1px 1px 1px);clip: rect(1px, 1px, 1px, 1px);height: 1px;margin: -1px;overflow: hidden;padding: 0;position: absolute;width: 1px;}#sk-container-id-1 div.sk-estimator {font-family: monospace;background-color: #f0f8ff;border: 1px dotted black;border-radius: 0.25em;box-sizing: border-box;margin-bottom: 0.5em;}#sk-container-id-1 div.sk-estimator:hover {background-color: #d4ebff;}#sk-container-id-1 div.sk-parallel-item::after {content: \"\";width: 100%;border-bottom: 1px solid gray;flex-grow: 1;}#sk-container-id-1 div.sk-label:hover label.sk-toggleable__label {background-color: #d4ebff;}#sk-container-id-1 div.sk-serial::before {content: \"\";position: absolute;border-left: 1px solid gray;box-sizing: border-box;top: 0;bottom: 0;left: 50%;z-index: 0;}#sk-container-id-1 div.sk-serial {display: flex;flex-direction: column;align-items: center;background-color: white;padding-right: 0.2em;padding-left: 0.2em;position: relative;}#sk-container-id-1 div.sk-item {position: relative;z-index: 1;}#sk-container-id-1 div.sk-parallel {display: flex;align-items: stretch;justify-content: center;background-color: white;position: relative;}#sk-container-id-1 div.sk-item::before, #sk-container-id-1 div.sk-parallel-item::before {content: \"\";position: absolute;border-left: 1px solid gray;box-sizing: border-box;top: 0;bottom: 0;left: 50%;z-index: -1;}#sk-container-id-1 div.sk-parallel-item {display: flex;flex-direction: column;z-index: 1;position: relative;background-color: white;}#sk-container-id-1 div.sk-parallel-item:first-child::after {align-self: flex-end;width: 50%;}#sk-container-id-1 div.sk-parallel-item:last-child::after {align-self: flex-start;width: 50%;}#sk-container-id-1 div.sk-parallel-item:only-child::after {width: 0;}#sk-container-id-1 div.sk-dashed-wrapped {border: 1px dashed gray;margin: 0 0.4em 0.5em 0.4em;box-sizing: border-box;padding-bottom: 0.4em;background-color: white;}#sk-container-id-1 div.sk-label label {font-family: monospace;font-weight: bold;display: inline-block;line-height: 1.2em;}#sk-container-id-1 div.sk-label-container {text-align: center;}#sk-container-id-1 div.sk-container {/* jupyter's `normalize.less` sets `[hidden] { display: none; }` but bootstrap.min.css set `[hidden] { display: none !important; }` so we also need the `!important` here to be able to override the default hidden behavior on the sphinx rendered scikit-learn.org. See: https://github.com/scikit-learn/scikit-learn/issues/21755 */display: inline-block !important;position: relative;}#sk-container-id-1 div.sk-text-repr-fallback {display: none;}</style><div id=\"sk-container-id-1\" class=\"sk-top-container\"><div class=\"sk-text-repr-fallback\"><pre>Pipeline(steps=[(&#x27;vect&#x27;, CountVectorizer()), (&#x27;clf&#x27;, MultinomialNB())])</pre><b>In a Jupyter environment, please rerun this cell to show the HTML representation or trust the notebook. <br />On GitHub, the HTML representation is unable to render, please try loading this page with nbviewer.org.</b></div><div class=\"sk-container\" hidden><div class=\"sk-item sk-dashed-wrapped\"><div class=\"sk-label-container\"><div class=\"sk-label sk-toggleable\"><input class=\"sk-toggleable__control sk-hidden--visually\" id=\"sk-estimator-id-1\" type=\"checkbox\" ><label for=\"sk-estimator-id-1\" class=\"sk-toggleable__label sk-toggleable__label-arrow\">Pipeline</label><div class=\"sk-toggleable__content\"><pre>Pipeline(steps=[(&#x27;vect&#x27;, CountVectorizer()), (&#x27;clf&#x27;, MultinomialNB())])</pre></div></div></div><div class=\"sk-serial\"><div class=\"sk-item\"><div class=\"sk-estimator sk-toggleable\"><input class=\"sk-toggleable__control sk-hidden--visually\" id=\"sk-estimator-id-2\" type=\"checkbox\" ><label for=\"sk-estimator-id-2\" class=\"sk-toggleable__label sk-toggleable__label-arrow\">CountVectorizer</label><div class=\"sk-toggleable__content\"><pre>CountVectorizer()</pre></div></div></div><div class=\"sk-item\"><div class=\"sk-estimator sk-toggleable\"><input class=\"sk-toggleable__control sk-hidden--visually\" id=\"sk-estimator-id-3\" type=\"checkbox\" ><label for=\"sk-estimator-id-3\" class=\"sk-toggleable__label sk-toggleable__label-arrow\">MultinomialNB</label><div class=\"sk-toggleable__content\"><pre>MultinomialNB()</pre></div></div></div></div></div></div></div>"
      ]
     },
     "metadata": {},
     "execution_count": 28
    }
   ]
  },
  {
   "cell_type": "code",
   "source": [
    "# Test the model\n",
    "sklearn_predictions = pipeline.predict([data['text'] for data in test_dataset])"
   ],
   "metadata": {
    "id": "-3H7Phquc-Zl"
   },
   "execution_count": null,
   "outputs": []
  },
  {
   "cell_type": "code",
   "source": [
    "# Generate and plot the confusion matrix\n",
    "conf_matrix_SK = confusion_matrix([data['label'] for data in test_dataset], sklearn_predictions, 5)\n",
    "print(\"Confusion Matrix (scikit-learn):\")\n",
    "plot_confusion_matrix(conf_matrix_SK, 5)\n",
    "\n",
    "# Compute precision, recall, and F1 score\n",
    "precision_SK, recall_SK, f1_SK, _ = precision_recall_fscore_support([data['label'] for data in test_dataset], sklearn_predictions, average=None)\n",
    "macro_precision_SK, macro_recall_SK, macro_f1_SK, _ = precision_recall_fscore_support([data['label'] for data in test_dataset], sklearn_predictions, average='macro')\n",
    "\n",
    "# Plot precision, recall, and F1 score per class\n",
    "plot_metrics_per_class(precision_SK, recall_SK, f1_SK)\n",
    "\n",
    "# Plot macro averaged precision, recall, and F1 score\n",
    "plt.figure(figsize=(6, 4))\n",
    "metrics = [macro_precision, macro_recall, macro_f1]\n",
    "labels = ['Precision', 'Recall', 'F1 Score']\n",
    "plt.bar(labels, metrics, color=['b', 'g', 'r'])\n",
    "plt.xlabel('Metric')\n",
    "plt.ylabel('Score')\n",
    "plt.title('Macro Averaged Metrics')\n",
    "plt.show()\n",
    "\n",
    "\n",
    "print(\"\\nPrecision per class (scikit-learn):\", precision_SK)\n",
    "print(\"Recall per class (scikit-learn):\", recall_SK)\n",
    "print(\"F1 Score per class (scikit-learn):\", f1_SK)\n",
    "\n",
    "print(\"\\nMacro Averaged Precision (scikit-learn):\", macro_precision_SK)\n",
    "print(\"Macro Averaged Recall (scikit-learn):\", macro_recall_SK)\n",
    "print(\"Macro Averaged F1 Score (scikit-learn):\", macro_f1_SK)"
   ],
   "metadata": {
    "id": "wqcSWVgIc_-E",
    "colab": {
     "base_uri": "https://localhost:8080/",
     "height": 1000
    },
    "outputId": "4d7d8531-d0f1-4809-e4a4-98e1f1584528"
   },
   "execution_count": null,
   "outputs": [
    {
     "output_type": "stream",
     "name": "stdout",
     "text": [
      "Confusion Matrix (scikit-learn):\n"
     ]
    },
    {
     "output_type": "display_data",
     "data": {
      "text/plain": [
       "<Figure size 800x600 with 2 Axes>"
      ],
      "image/png": "[encoded data removed]"
     },
     "metadata": {}
    },
    {
     "output_type": "display_data",
     "data": {
      "text/plain": [
       "<Figure size 1000x600 with 1 Axes>"
      ],
      "image/png": "[encoded data removed]"
     },
     "metadata": {}
    },
    {
     "output_type": "display_data",
     "data": {
      "text/plain": [
       "<Figure size 600x400 with 1 Axes>"
      ],
      "image/png": "[encoded data removed]"
     },
     "metadata": {}
    },
    {
     "output_type": "stream",
     "name": "stdout",
     "text": [
      "\n",
      "Precision per class (scikit-learn): [0.4516129  0.46316964 0.22368421 0.35864979 0.57236842]\n",
      "Recall per class (scikit-learn): [0.10035842 0.65560821 0.0874036  0.66666667 0.21804511]\n",
      "F1 Score per class (scikit-learn): [0.16422287 0.54283846 0.12569316 0.46639232 0.31578947]\n",
      "\n",
      "Macro Averaged Precision (scikit-learn): 0.41389699333828645\n",
      "Macro Averaged Recall (scikit-learn): 0.3456164032418666\n",
      "Macro Averaged F1 Score (scikit-learn): 0.3229872566299008\n"
     ]
    }
   ]
  },
  {
   "cell_type": "markdown",
   "source": [
    "# ***Comparasion***"
   ],
   "metadata": {
    "id": "1g0a1DXTdMY3"
   }
  },
  {
   "cell_type": "code",
   "source": [
    "# Plot precision, recall, and F1 score per class for both implementations\n",
    "plt.figure(figsize=(12, 6))\n",
    "bar_width = 0.2\n",
    "index = np.arange(5)\n",
    "\n",
    "plt.bar(index, precision, bar_width, label='Precision (Custom)', color='b', align='center')\n",
    "plt.bar(index + bar_width, recall, bar_width, label='Recall (Custom)', color='g', align='center')\n",
    "plt.bar(index + 2*bar_width, f1, bar_width, label='F1 Score (Custom)', color='r', align='center')\n",
    "\n",
    "plt.bar(index + 3*bar_width, precision_SK, bar_width, label='Precision (scikit-learn)', color='c', align='center')\n",
    "plt.bar(index + 4*bar_width, recall_SK, bar_width, label='Recall (scikit-learn)', color='m', align='center')\n",
    "plt.bar(index + 5*bar_width, f1_SK, bar_width, label='F1 Score (scikit-learn)', color='y', align='center')\n",
    "\n",
    "plt.xlabel('Class')\n",
    "plt.ylabel('Score')\n",
    "plt.title('Metrics per Class Comparison')\n",
    "plt.xticks(index + 2*bar_width, ['Class 0', 'Class 1', 'Class 2', 'Class 3', 'Class 4'])\n",
    "plt.legend()\n",
    "plt.tight_layout()\n",
    "plt.show()\n",
    "\n",
    "# Plot macro averaged precision, recall, and F1 score for both implementations\n",
    "plt.figure(figsize=(6, 4))\n",
    "metrics_custom = [macro_precision, macro_recall, macro_f1]\n",
    "metrics_sklearn = [macro_precision_SK, macro_recall_SK, macro_f1_SK]\n",
    "labels = ['Precision', 'Recall', 'F1 Score']\n",
    "bar_width = 0.35\n",
    "index = np.arange(3)\n",
    "\n",
    "plt.bar(index, metrics_custom, bar_width, label='Custom', color='b', align='center')\n",
    "plt.bar(index + bar_width, metrics_sklearn, bar_width, label='scikit-learn', color='g', align='center')\n",
    "\n",
    "plt.xlabel('Metric')\n",
    "plt.ylabel('Score')\n",
    "plt.title('Macro Averaged Metrics Comparison')\n",
    "plt.xticks(index + bar_width/2, labels)\n",
    "plt.legend()\n",
    "plt.tight_layout()\n",
    "plt.show()\n"
   ],
   "metadata": {
    "id": "gNA_tpNvdMxN",
    "colab": {
     "base_uri": "https://localhost:8080/",
     "height": 969
    },
    "outputId": "bb54074b-1062-4531-e586-a245c95cf401"
   },
   "execution_count": null,
   "outputs": [
    {
     "output_type": "display_data",
     "data": {
      "text/plain": [
       "<Figure size 1200x600 with 1 Axes>"
      ],
      "image/png": "[encoded data removed]"
     },
     "metadata": {}
    },
    {
     "output_type": "display_data",
     "data": {
      "text/plain": [
       "<Figure size 600x400 with 1 Axes>"
      ],
      "image/png": "[encoded data removed]"
     },
     "metadata": {}
    }
   ]
  }
 ]
}
