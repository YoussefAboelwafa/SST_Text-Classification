{
 "cells": [
  {
   "cell_type": "code",
   "metadata": {
    "ExecuteTime": {
     "end_time": "2024-10-31T16:52:24.661757Z",
     "start_time": "2024-10-31T16:52:24.623479Z"
    }
   },
   "source": [
    "import pandas as pd\n",
    "from utils import *\n",
    "import numpy as np\n",
    "\n",
    "train_df = pd.read_csv('dataset/train.csv')\n",
    "test_df = pd.read_csv('dataset/test.csv')\n"
   ],
   "outputs": [],
   "execution_count": 1
  },
  {
   "cell_type": "markdown",
   "metadata": {},
   "source": [
    "## Preprocessing"
   ]
  },
  {
   "cell_type": "code",
   "source": [
    "# Function to create the document-term matrix\n",
    "def create_document_term_matrix(train_df, vocab):\n",
    "    # Initialize a matrix with zeros\n",
    "    doc_term_matrix = np.zeros((len(train_df), len(vocab)), dtype=int)\n",
    "    \n",
    "    # Create a mapping of words to their indices\n",
    "    word_to_index = {word: i for i, word in enumerate(vocab)}\n",
    "    \n",
    "    for doc_index, (_, row) in enumerate(train_df.iterrows()):\n",
    "        tokens = tokenize(row['sentence'])  # Tokenize the document\n",
    "        for token in tokens:\n",
    "            if token in word_to_index:  # Check if the token is in the vocabulary\n",
    "                doc_term_matrix[doc_index][word_to_index[token]] += 1  # Increment count\n",
    "                \n",
    "    return doc_term_matrix\n",
    "\n",
    "# Function to get the number of words in each class\n",
    "def get_number_of_words_in_class(df):\n",
    "    class_count = {}\n",
    "    for _, row in df.iterrows():\n",
    "        row_tokens = tokenize(row['sentence'])\n",
    "        if row['label'] in class_count:\n",
    "            class_count[row['label']] += len(row_tokens)\n",
    "        else:\n",
    "            class_count[row['label']] = len(row_tokens)\n",
    "    return class_count\n",
    "\n",
    "# Example usage\n",
    "# Assuming train_df is your DataFrame with 'sentence' and 'label' columns\n",
    "vocab = generate_vocab(train_df)\n",
    "print(f'Vocabulary size: {len(vocab)}')\n",
    "\n",
    "# Create the document-term matrix\n",
    "doc_term_matrix = create_document_term_matrix(train_df, vocab)\n",
    "print(f'Document-Term Matrix shape: {doc_term_matrix.shape}')"
   ],
   "metadata": {
    "collapsed": false,
    "ExecuteTime": {
     "end_time": "2024-10-31T16:52:27.852592Z",
     "start_time": "2024-10-31T16:52:26.176980Z"
    }
   },
   "outputs": [
    {
     "name": "stdout",
     "output_type": "stream",
     "text": [
      "Vocabulary size: 16255\n",
      "Document-Term Matrix shape: (8544, 16255)\n"
     ]
    }
   ],
   "execution_count": 2
  },
  {
   "cell_type": "markdown",
   "metadata": {},
   "source": [
    "## Training"
   ]
  },
  {
   "cell_type": "code",
   "metadata": {
    "ExecuteTime": {
     "end_time": "2024-10-31T16:52:29.957381Z",
     "start_time": "2024-10-31T16:52:29.953983Z"
    }
   },
   "source": [
    "def train_naive_bayes(train_df, vocab, doc_term_matrix):    \n",
    "    # Calculate class word counts\n",
    "    class_count = get_number_of_words_in_class(train_df)\n",
    "    \n",
    "    # Calculate prior probabilities\n",
    "    n_doc = len(train_df)\n",
    "    log_prior = np.log(train_df['label'].value_counts().sort_index() / n_doc).tolist()\n",
    "    \n",
    "    # Precompute log likelihood\n",
    "    log_likelihood = np.zeros((len(vocab), 5))  # Assuming 5 classes\n",
    "    \n",
    "    for c in range(5):  # For each class\n",
    "        # Get total word counts for the class using the document-term matrix\n",
    "        n_wc = np.sum(doc_term_matrix[train_df['label'] == c], axis=0)\n",
    "        for index, w in enumerate(vocab):\n",
    "            # Calculate log likelihood for each word in vocab\n",
    "            log_likelihood[index][c] = np.log((n_wc[index] + 1) / (class_count[c] + len(vocab)))\n",
    "    return log_prior, log_likelihood       "
   ],
   "outputs": [],
   "execution_count": 3
  },
  {
   "cell_type": "markdown",
   "metadata": {
    "collapsed": false
   },
   "source": [
    "## Test Naive Bayes"
   ]
  },
  {
   "cell_type": "code",
   "metadata": {
    "collapsed": false,
    "ExecuteTime": {
     "end_time": "2024-10-31T16:52:34.175581Z",
     "start_time": "2024-10-31T16:52:34.172191Z"
    }
   },
   "source": [
    "def test_naive_bayes(testdoc, logprior, loglikelihood, C, V):\n",
    "    # Create a dictionary to map words to their indices for quick lookup\n",
    "    word_to_index = {word: i for i, word in enumerate(V)}\n",
    "    sum_scores = np.zeros(len(C))  # Initialize scores for each class\n",
    "    \n",
    "    for c in range(len(C)):\n",
    "        # Initialize score with the log prior for the class\n",
    "        sum_scores[c] = logprior[c]\n",
    "        \n",
    "        for word in tokenize(testdoc):  # Split the test document into words\n",
    "            if word in word_to_index:  # Check if the word is in V\n",
    "                # Update score by adding loglikelihood of the word given the class\n",
    "                index = np.where(vocab == word)[0]\n",
    "                sum_scores[c] += loglikelihood[index[0]][c]\n",
    "                \n",
    "    # Return the class with the maximum score\n",
    "    return np.argmax(sum_scores)\n"
   ],
   "outputs": [],
   "execution_count": 4
  },
  {
   "cell_type": "markdown",
   "metadata": {},
   "source": [
    "## Training Accuracy"
   ]
  },
  {
   "cell_type": "code",
   "metadata": {
    "ExecuteTime": {
     "end_time": "2024-10-31T15:31:02.038733Z",
     "start_time": "2024-10-31T15:29:43.028814Z"
    }
   },
   "source": [
    "cnt=0\n",
    "log_prior, log_likelihood = train_naive_bayes(train_df, vocab, doc_term_matrix)\n",
    "for _, row in train_df.iterrows():\n",
    "    predicted_class=test_naive_bayes(row['sentence'], log_prior, log_likelihood, [0, 1, 2, 3, 4], vocab)\n",
    "    if predicted_class == row['label']:\n",
    "        cnt+=1\n",
    "\n",
    "# compute accuracy\n",
    "accuracy = cnt/len(train_df)\n",
    "\n",
    "\n",
    "print(f'Train Accuracy: {accuracy}')\n",
    "    \n"
   ],
   "outputs": [
    {
     "name": "stdout",
     "output_type": "stream",
     "text": [
      "Train Accuracy: 0.7400514981273408\n"
     ]
    }
   ],
   "execution_count": 6
  },
  {
   "cell_type": "markdown",
   "metadata": {},
   "source": [
    "## Test Accuracy"
   ]
  },
  {
   "cell_type": "code",
   "metadata": {
    "ExecuteTime": {
     "end_time": "2024-10-31T16:54:38.951880Z",
     "start_time": "2024-10-31T16:54:17.776960Z"
    }
   },
   "source": [
    "\n",
    "true_labels = []\n",
    "predicted_labels = []\n",
    "\n",
    "cnt=0\n",
    "log_prior, log_likelihood = train_naive_bayes(train_df, vocab, doc_term_matrix)\n",
    "for _, row in test_df.iterrows():\n",
    "    predicted_class=test_naive_bayes(row['sentence'], log_prior, log_likelihood, [0, 1, 2, 3, 4], vocab)\n",
    "    true_labels.append(row['label'])\n",
    "    predicted_labels.append(predicted_class)\n",
    "    if predicted_class == row['label']:\n",
    "        cnt+=1\n",
    "\n",
    "# compute accuracy\n",
    "accuracy = cnt/len(test_df)\n",
    "\n",
    "print(f'Test Accuracy: {accuracy * 100:.2f}%')\n",
    "print(f'Number of wrong predicted sentences:{len(test_df)-cnt}')"
   ],
   "outputs": [
    {
     "name": "stdout",
     "output_type": "stream",
     "text": [
      "Test Accuracy: 40.41%\n",
      "Number of wrong predicted sentences:1317\n"
     ]
    }
   ],
   "execution_count": 6
  },
  {
   "metadata": {},
   "cell_type": "markdown",
   "source": [
    "## Metrics"
   ]
  },
  {
   "metadata": {
    "ExecuteTime": {
     "end_time": "2024-10-31T18:05:22.038791Z",
     "start_time": "2024-10-31T18:05:22.033275Z"
    }
   },
   "cell_type": "code",
   "source": [
    "def compute_confusion_matrix(true_labels, pred_labels, num_classes):\n",
    "    matrix = np.zeros((num_classes, num_classes), dtype=int)\n",
    "    for t, p in zip(true_labels, pred_labels):\n",
    "        matrix[t][p] += 1\n",
    "    return matrix\n",
    "\n",
    "\n",
    "def calculate_metrics(conf_matrix):\n",
    "    num_classes = conf_matrix.shape[0]\n",
    "    precision = []\n",
    "    recall = []\n",
    "    f1_score = []\n",
    "\n",
    "    for c in range(num_classes):\n",
    "        tp = conf_matrix[c, c]\n",
    "        fp = conf_matrix[:, c].sum() - tp\n",
    "        fn = conf_matrix[c, :].sum() - tp\n",
    "\n",
    "        precision_c = tp / (tp + fp) if (tp + fp) > 0 else 0\n",
    "        recall_c = tp / (tp + fn) if (tp + fn) > 0 else 0\n",
    "        f1_c = 2 * precision_c * recall_c / (precision_c + recall_c) if (precision_c + recall_c) > 0 else 0\n",
    "\n",
    "        precision.append(precision_c)\n",
    "        recall.append(recall_c)\n",
    "        f1_score.append(f1_c)\n",
    "\n",
    "    macro_precision = np.mean(precision)\n",
    "    macro_recall = np.mean(recall)\n",
    "    macro_f1 = np.mean(f1_score)\n",
    "\n",
    "    metrics_df = pd.DataFrame({\n",
    "        \"Class\": [\"Class 0\", \"Class 1\", \"Class 2\", \"Class 3\", \"Class 4\"],\n",
    "        \"Precision\": precision,\n",
    "        \"Recall\": recall,\n",
    "        \"F1-Score\": f1_score\n",
    "    })\n",
    "\n",
    "    metrics_df.loc[len(metrics_df)] = [\"Macro Average\", macro_precision, macro_recall, macro_f1]\n",
    "\n",
    "    return metrics_df\n"
   ],
   "outputs": [],
   "execution_count": 12
  },
  {
   "metadata": {
    "ExecuteTime": {
     "end_time": "2024-10-31T18:08:31.238798Z",
     "start_time": "2024-10-31T18:08:31.235061Z"
    }
   },
   "cell_type": "code",
   "source": [
    "def print_confusion_matrix_table(conf_matrix, class_labels):\n",
    "    df = pd.DataFrame(conf_matrix, index=class_labels, columns=class_labels)\n",
    "    print(\"Confusion Matrix:\")\n",
    "    print(df)"
   ],
   "outputs": [],
   "execution_count": 20
  },
  {
   "metadata": {},
   "cell_type": "markdown",
   "source": [
    "## Comparison With Sklearn"
   ]
  },
  {
   "metadata": {},
   "cell_type": "markdown",
   "source": "### Sklearn Naive Bayes"
  },
  {
   "metadata": {
    "ExecuteTime": {
     "end_time": "2024-10-31T18:05:15.482891Z",
     "start_time": "2024-10-31T18:05:15.323460Z"
    }
   },
   "cell_type": "code",
   "source": [
    "from sklearn.pipeline import Pipeline\n",
    "from sklearn.feature_extraction.text import CountVectorizer\n",
    "from sklearn.naive_bayes import MultinomialNB\n",
    "\n",
    "pipeline = Pipeline([\n",
    "    ('vectorizer', CountVectorizer()),\n",
    "    ('classifier', MultinomialNB())\n",
    "])\n",
    "\n",
    "pipeline.set_params(\n",
    "    vectorizer__max_features=len(vocab),  \n",
    "    vectorizer__ngram_range=(1, 1), \n",
    "    vectorizer__binary=False , \n",
    ")\n",
    "\n",
    "pipeline.set_params(classifier__alpha=1)  # Laplace smoothing\n",
    "\n",
    "pipeline.fit(train_df['sentence'], train_df['label'])\n",
    "predictions = pipeline.predict(test_df['sentence'])\n",
    "\n",
    "# compute accuracy\n",
    "from sklearn.metrics import accuracy_score\n",
    "\n",
    "accuracy = accuracy_score(test_df['label'], predictions)\n",
    "print(\"Accuracy:\", accuracy*100, \"%\")"
   ],
   "outputs": [
    {
     "name": "stdout",
     "output_type": "stream",
     "text": [
      "Accuracy: 40.90497737556561 %\n"
     ]
    }
   ],
   "execution_count": 11
  },
  {
   "metadata": {
    "ExecuteTime": {
     "end_time": "2024-10-31T18:05:40.384873Z",
     "start_time": "2024-10-31T18:05:40.381945Z"
    }
   },
   "cell_type": "code",
   "source": "class_labels = ['Class 0', 'Class 1', 'Class 2', 'Class 3', 'Class 4']",
   "outputs": [],
   "execution_count": 15
  },
  {
   "cell_type": "code",
   "source": [
    "from sklearn.metrics import confusion_matrix\n",
    "conf_matrix_sk = confusion_matrix(true_labels, predictions)\n",
    "conf_matrix_sk_df = pd.DataFrame(conf_matrix_sk, index=class_labels, columns=class_labels)\n",
    "conf_matrix_sk_df"
   ],
   "metadata": {
    "collapsed": false,
    "ExecuteTime": {
     "end_time": "2024-10-31T18:39:22.619543Z",
     "start_time": "2024-10-31T18:39:22.609618Z"
    }
   },
   "outputs": [
    {
     "data": {
      "text/plain": [
       "         Class 0  Class 1  Class 2  Class 3  Class 4\n",
       "Class 0       28      200       10       41        0\n",
       "Class 1       22      415       57      127       12\n",
       "Class 2        8      154       34      181       12\n",
       "Class 3        2       88       39      340       41\n",
       "Class 4        2       39       12      259       87"
      ],
      "text/html": [
       "<div>\n",
       "<style scoped>\n",
       "    .dataframe tbody tr th:only-of-type {\n",
       "        vertical-align: middle;\n",
       "    }\n",
       "\n",
       "    .dataframe tbody tr th {\n",
       "        vertical-align: top;\n",
       "    }\n",
       "\n",
       "    .dataframe thead th {\n",
       "        text-align: right;\n",
       "    }\n",
       "</style>\n",
       "<table border=\"1\" class=\"dataframe\">\n",
       "  <thead>\n",
       "    <tr style=\"text-align: right;\">\n",
       "      <th></th>\n",
       "      <th>Class 0</th>\n",
       "      <th>Class 1</th>\n",
       "      <th>Class 2</th>\n",
       "      <th>Class 3</th>\n",
       "      <th>Class 4</th>\n",
       "    </tr>\n",
       "  </thead>\n",
       "  <tbody>\n",
       "    <tr>\n",
       "      <th>Class 0</th>\n",
       "      <td>28</td>\n",
       "      <td>200</td>\n",
       "      <td>10</td>\n",
       "      <td>41</td>\n",
       "      <td>0</td>\n",
       "    </tr>\n",
       "    <tr>\n",
       "      <th>Class 1</th>\n",
       "      <td>22</td>\n",
       "      <td>415</td>\n",
       "      <td>57</td>\n",
       "      <td>127</td>\n",
       "      <td>12</td>\n",
       "    </tr>\n",
       "    <tr>\n",
       "      <th>Class 2</th>\n",
       "      <td>8</td>\n",
       "      <td>154</td>\n",
       "      <td>34</td>\n",
       "      <td>181</td>\n",
       "      <td>12</td>\n",
       "    </tr>\n",
       "    <tr>\n",
       "      <th>Class 3</th>\n",
       "      <td>2</td>\n",
       "      <td>88</td>\n",
       "      <td>39</td>\n",
       "      <td>340</td>\n",
       "      <td>41</td>\n",
       "    </tr>\n",
       "    <tr>\n",
       "      <th>Class 4</th>\n",
       "      <td>2</td>\n",
       "      <td>39</td>\n",
       "      <td>12</td>\n",
       "      <td>259</td>\n",
       "      <td>87</td>\n",
       "    </tr>\n",
       "  </tbody>\n",
       "</table>\n",
       "</div>"
      ]
     },
     "execution_count": 37,
     "metadata": {},
     "output_type": "execute_result"
    }
   ],
   "execution_count": 37
  },
  {
   "cell_type": "code",
   "source": [
    "metrics_sk = calculate_metrics(conf_matrix_sk)\n",
    "metrics_sk"
   ],
   "metadata": {
    "collapsed": false,
    "ExecuteTime": {
     "end_time": "2024-10-31T18:39:25.645120Z",
     "start_time": "2024-10-31T18:39:25.635711Z"
    }
   },
   "outputs": [
    {
     "data": {
      "text/plain": [
       "           Class  Precision    Recall  F1-Score\n",
       "0        Class 0   0.451613  0.100358  0.164223\n",
       "1        Class 1   0.463170  0.655608  0.542838\n",
       "2        Class 2   0.223684  0.087404  0.125693\n",
       "3        Class 3   0.358650  0.666667  0.466392\n",
       "4        Class 4   0.572368  0.218045  0.315789\n",
       "5  Macro Average   0.413897  0.345616  0.322987"
      ],
      "text/html": [
       "<div>\n",
       "<style scoped>\n",
       "    .dataframe tbody tr th:only-of-type {\n",
       "        vertical-align: middle;\n",
       "    }\n",
       "\n",
       "    .dataframe tbody tr th {\n",
       "        vertical-align: top;\n",
       "    }\n",
       "\n",
       "    .dataframe thead th {\n",
       "        text-align: right;\n",
       "    }\n",
       "</style>\n",
       "<table border=\"1\" class=\"dataframe\">\n",
       "  <thead>\n",
       "    <tr style=\"text-align: right;\">\n",
       "      <th></th>\n",
       "      <th>Class</th>\n",
       "      <th>Precision</th>\n",
       "      <th>Recall</th>\n",
       "      <th>F1-Score</th>\n",
       "    </tr>\n",
       "  </thead>\n",
       "  <tbody>\n",
       "    <tr>\n",
       "      <th>0</th>\n",
       "      <td>Class 0</td>\n",
       "      <td>0.451613</td>\n",
       "      <td>0.100358</td>\n",
       "      <td>0.164223</td>\n",
       "    </tr>\n",
       "    <tr>\n",
       "      <th>1</th>\n",
       "      <td>Class 1</td>\n",
       "      <td>0.463170</td>\n",
       "      <td>0.655608</td>\n",
       "      <td>0.542838</td>\n",
       "    </tr>\n",
       "    <tr>\n",
       "      <th>2</th>\n",
       "      <td>Class 2</td>\n",
       "      <td>0.223684</td>\n",
       "      <td>0.087404</td>\n",
       "      <td>0.125693</td>\n",
       "    </tr>\n",
       "    <tr>\n",
       "      <th>3</th>\n",
       "      <td>Class 3</td>\n",
       "      <td>0.358650</td>\n",
       "      <td>0.666667</td>\n",
       "      <td>0.466392</td>\n",
       "    </tr>\n",
       "    <tr>\n",
       "      <th>4</th>\n",
       "      <td>Class 4</td>\n",
       "      <td>0.572368</td>\n",
       "      <td>0.218045</td>\n",
       "      <td>0.315789</td>\n",
       "    </tr>\n",
       "    <tr>\n",
       "      <th>5</th>\n",
       "      <td>Macro Average</td>\n",
       "      <td>0.413897</td>\n",
       "      <td>0.345616</td>\n",
       "      <td>0.322987</td>\n",
       "    </tr>\n",
       "  </tbody>\n",
       "</table>\n",
       "</div>"
      ]
     },
     "execution_count": 38,
     "metadata": {},
     "output_type": "execute_result"
    }
   ],
   "execution_count": 38
  },
  {
   "metadata": {
    "ExecuteTime": {
     "end_time": "2024-10-31T18:39:27.455162Z",
     "start_time": "2024-10-31T18:39:27.445070Z"
    }
   },
   "cell_type": "code",
   "source": [
    "num_classes = 5\n",
    "conf_matrix = compute_confusion_matrix(true_labels, predicted_labels, num_classes)\n",
    "confusion_matrix_df = pd.DataFrame(conf_matrix, index=class_labels, columns=class_labels)\n",
    "confusion_matrix_df\n"
   ],
   "outputs": [
    {
     "data": {
      "text/plain": [
       "         Class 0  Class 1  Class 2  Class 3  Class 4\n",
       "Class 0       23      200        8       47        1\n",
       "Class 1       19      410       53      144        7\n",
       "Class 2        8      167       26      179        9\n",
       "Class 3        2       89       30      352       37\n",
       "Class 4        1       37       13      266       82"
      ],
      "text/html": [
       "<div>\n",
       "<style scoped>\n",
       "    .dataframe tbody tr th:only-of-type {\n",
       "        vertical-align: middle;\n",
       "    }\n",
       "\n",
       "    .dataframe tbody tr th {\n",
       "        vertical-align: top;\n",
       "    }\n",
       "\n",
       "    .dataframe thead th {\n",
       "        text-align: right;\n",
       "    }\n",
       "</style>\n",
       "<table border=\"1\" class=\"dataframe\">\n",
       "  <thead>\n",
       "    <tr style=\"text-align: right;\">\n",
       "      <th></th>\n",
       "      <th>Class 0</th>\n",
       "      <th>Class 1</th>\n",
       "      <th>Class 2</th>\n",
       "      <th>Class 3</th>\n",
       "      <th>Class 4</th>\n",
       "    </tr>\n",
       "  </thead>\n",
       "  <tbody>\n",
       "    <tr>\n",
       "      <th>Class 0</th>\n",
       "      <td>23</td>\n",
       "      <td>200</td>\n",
       "      <td>8</td>\n",
       "      <td>47</td>\n",
       "      <td>1</td>\n",
       "    </tr>\n",
       "    <tr>\n",
       "      <th>Class 1</th>\n",
       "      <td>19</td>\n",
       "      <td>410</td>\n",
       "      <td>53</td>\n",
       "      <td>144</td>\n",
       "      <td>7</td>\n",
       "    </tr>\n",
       "    <tr>\n",
       "      <th>Class 2</th>\n",
       "      <td>8</td>\n",
       "      <td>167</td>\n",
       "      <td>26</td>\n",
       "      <td>179</td>\n",
       "      <td>9</td>\n",
       "    </tr>\n",
       "    <tr>\n",
       "      <th>Class 3</th>\n",
       "      <td>2</td>\n",
       "      <td>89</td>\n",
       "      <td>30</td>\n",
       "      <td>352</td>\n",
       "      <td>37</td>\n",
       "    </tr>\n",
       "    <tr>\n",
       "      <th>Class 4</th>\n",
       "      <td>1</td>\n",
       "      <td>37</td>\n",
       "      <td>13</td>\n",
       "      <td>266</td>\n",
       "      <td>82</td>\n",
       "    </tr>\n",
       "  </tbody>\n",
       "</table>\n",
       "</div>"
      ]
     },
     "execution_count": 39,
     "metadata": {},
     "output_type": "execute_result"
    }
   ],
   "execution_count": 39
  },
  {
   "cell_type": "code",
   "source": [
    "metrics = calculate_metrics(conf_matrix)\n",
    "metrics"
   ],
   "metadata": {
    "collapsed": false,
    "ExecuteTime": {
     "end_time": "2024-10-31T18:39:29.595088Z",
     "start_time": "2024-10-31T18:39:29.583664Z"
    }
   },
   "outputs": [
    {
     "data": {
      "text/plain": [
       "           Class  Precision    Recall  F1-Score\n",
       "0        Class 0   0.433962  0.082437  0.138554\n",
       "1        Class 1   0.454042  0.647709  0.533854\n",
       "2        Class 2   0.200000  0.066838  0.100193\n",
       "3        Class 3   0.356275  0.690196  0.469960\n",
       "4        Class 4   0.602941  0.205514  0.306542\n",
       "5  Macro Average   0.409444  0.338539  0.309821"
      ],
      "text/html": [
       "<div>\n",
       "<style scoped>\n",
       "    .dataframe tbody tr th:only-of-type {\n",
       "        vertical-align: middle;\n",
       "    }\n",
       "\n",
       "    .dataframe tbody tr th {\n",
       "        vertical-align: top;\n",
       "    }\n",
       "\n",
       "    .dataframe thead th {\n",
       "        text-align: right;\n",
       "    }\n",
       "</style>\n",
       "<table border=\"1\" class=\"dataframe\">\n",
       "  <thead>\n",
       "    <tr style=\"text-align: right;\">\n",
       "      <th></th>\n",
       "      <th>Class</th>\n",
       "      <th>Precision</th>\n",
       "      <th>Recall</th>\n",
       "      <th>F1-Score</th>\n",
       "    </tr>\n",
       "  </thead>\n",
       "  <tbody>\n",
       "    <tr>\n",
       "      <th>0</th>\n",
       "      <td>Class 0</td>\n",
       "      <td>0.433962</td>\n",
       "      <td>0.082437</td>\n",
       "      <td>0.138554</td>\n",
       "    </tr>\n",
       "    <tr>\n",
       "      <th>1</th>\n",
       "      <td>Class 1</td>\n",
       "      <td>0.454042</td>\n",
       "      <td>0.647709</td>\n",
       "      <td>0.533854</td>\n",
       "    </tr>\n",
       "    <tr>\n",
       "      <th>2</th>\n",
       "      <td>Class 2</td>\n",
       "      <td>0.200000</td>\n",
       "      <td>0.066838</td>\n",
       "      <td>0.100193</td>\n",
       "    </tr>\n",
       "    <tr>\n",
       "      <th>3</th>\n",
       "      <td>Class 3</td>\n",
       "      <td>0.356275</td>\n",
       "      <td>0.690196</td>\n",
       "      <td>0.469960</td>\n",
       "    </tr>\n",
       "    <tr>\n",
       "      <th>4</th>\n",
       "      <td>Class 4</td>\n",
       "      <td>0.602941</td>\n",
       "      <td>0.205514</td>\n",
       "      <td>0.306542</td>\n",
       "    </tr>\n",
       "    <tr>\n",
       "      <th>5</th>\n",
       "      <td>Macro Average</td>\n",
       "      <td>0.409444</td>\n",
       "      <td>0.338539</td>\n",
       "      <td>0.309821</td>\n",
       "    </tr>\n",
       "  </tbody>\n",
       "</table>\n",
       "</div>"
      ]
     },
     "execution_count": 40,
     "metadata": {},
     "output_type": "execute_result"
    }
   ],
   "execution_count": 40
  },
  {
   "metadata": {},
   "cell_type": "markdown",
   "source": "### Plots"
  },
  {
   "metadata": {},
   "cell_type": "markdown",
   "source": "#### Confusion Matrices Comparison"
  },
  {
   "metadata": {
    "ExecuteTime": {
     "end_time": "2024-10-31T18:39:32.573061Z",
     "start_time": "2024-10-31T18:39:31.917079Z"
    }
   },
   "cell_type": "code",
   "source": [
    "import matplotlib.pyplot as plt\n",
    "import seaborn as sns\n",
    "# Plot the heatmaps side-by-side\n",
    "fig, axes = plt.subplots(1, 2, figsize=(14, 6))\n",
    "\n",
    "# Heatmap for the first confusion matrix\n",
    "sns.heatmap(confusion_matrix_df, annot=True, fmt=\"d\", cmap=\"Blues\", ax=axes[0])\n",
    "axes[0].set_title(\"Our Confusion Matrix\")\n",
    "axes[0].set_xlabel(\"Predicted Labels\")\n",
    "axes[0].set_ylabel(\"True Labels\")\n",
    "\n",
    "# Heatmap for the second confusion matrix\n",
    "sns.heatmap(conf_matrix_sk_df, annot=True, fmt=\"d\", cmap=\"Blues\", ax=axes[1])\n",
    "axes[1].set_title(\"SKlearn Confusion Matrix\")\n",
    "axes[1].set_xlabel(\"Predicted Labels\")\n",
    "axes[1].set_ylabel(\"True Labels\")\n",
    "\n",
    "plt.tight_layout()\n",
    "plt.show()"
   ],
   "outputs": [
    {
     "data": {
      "text/plain": [
       "<Figure size 1400x600 with 4 Axes>"
      ],
      "image/png": "[encoded data removed]"
     },
     "metadata": {},
     "output_type": "display_data"
    }
   ],
   "execution_count": 41
  },
  {
   "metadata": {},
   "cell_type": "markdown",
   "source": "#### Metrics Comparison"
  },
  {
   "metadata": {
    "ExecuteTime": {
     "end_time": "2024-10-31T18:39:52.321249Z",
     "start_time": "2024-10-31T18:39:52.142075Z"
    }
   },
   "cell_type": "code",
   "source": [
    "# Data\n",
    "comparison_metrics = ['Precision', 'Recall', 'F1-Score']\n",
    "my_algorithm_scores = [metrics.loc[5, 'Precision'], metrics.loc[5, 'Recall'], metrics.loc[5, 'F1-Score']]\n",
    "sklearn_algorithm_scores = [metrics_sk.loc[5, 'Precision'], metrics_sk.loc[5, 'Recall'], metrics_sk.loc[5, 'F1-Score']]\n",
    "\n",
    "# Set bar width\n",
    "bar_width = 0.35\n",
    "\n",
    "# Set positions of bars on X axis\n",
    "r1 = np.arange(len(comparison_metrics))  # Our Algorithm\n",
    "r2 = [x + bar_width for x in r1]  # Scikit-learn Algorithm\n",
    "\n",
    "# Create bars\n",
    "plt.bar(r1, my_algorithm_scores, color='b', width=bar_width, edgecolor='grey', label='Our Algorithm')\n",
    "plt.bar(r2, sklearn_algorithm_scores, color='g', width=bar_width, edgecolor='grey', label='Scikit-learn')\n",
    "\n",
    "# Add labels\n",
    "plt.xlabel('Metrics', fontweight='bold')\n",
    "plt.ylabel('Scores', fontweight='bold')\n",
    "plt.title('Comparison of Precision, Recall, and F-measure')\n",
    "plt.xticks([r + bar_width / 2 for r in range(len(comparison_metrics))], comparison_metrics)\n",
    "\n",
    "# Add legend\n",
    "plt.legend()\n",
    "\n",
    "# Show the plot\n",
    "plt.tight_layout()  # Adjust layout to prevent clipping\n",
    "plt.show()"
   ],
   "outputs": [
    {
     "data": {
      "text/plain": [
       "<Figure size 640x480 with 1 Axes>"
      ],
      "image/png": "[encoded data removed]"
     },
     "metadata": {},
     "output_type": "display_data"
    }
   ],
   "execution_count": 43
  }
 ],
 "metadata": {
  "kernelspec": {
   "display_name": "usr",
   "language": "python",
   "name": "python3"
  },
  "language_info": {
   "codemirror_mode": {
    "name": "ipython",
    "version": 3
   },
   "file_extension": ".py",
   "mimetype": "text/x-python",
   "name": "python",
   "nbconvert_exporter": "python",
   "pygments_lexer": "ipython3",
   "version": "3.12.3"
  }
 },
 "nbformat": 4,
 "nbformat_minor": 2
}
