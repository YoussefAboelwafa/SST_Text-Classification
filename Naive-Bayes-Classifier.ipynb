{
 "cells": [
  {
   "cell_type": "code",
   "execution_count": 26,
   "metadata": {},
   "outputs": [],
   "source": [
    "from datasets import load_dataset\n",
    "import pandas as pd\n",
    "from utils import *\n",
    "import numpy as np\n",
    "\n",
    "# Load SST dataset\n",
    "dataset = load_dataset(\"sst\")\n",
    "\n",
    "train_df = pd.DataFrame(dataset['train'])\n",
    "test_df = pd.DataFrame(dataset['test'])\n"
   ]
  },
  {
   "cell_type": "markdown",
   "metadata": {},
   "source": [
    "## Preprocessing"
   ]
  },
  {
   "cell_type": "code",
   "execution_count": 27,
   "metadata": {},
   "outputs": [],
   "source": [
    "def generate_vocab(train_df):\n",
    "    tokens = []\n",
    "    for _, row in train_df.iterrows():\n",
    "        row_tokens = row['tokens'].split('|')\n",
    "        tokens.extend(row_tokens)\n",
    "    return np.unique(tokens) \n",
    "\n",
    "def get_number_of_words_in_class(df):\n",
    "    class_count = {}\n",
    "    for _, row in df.iterrows():\n",
    "        row_tokens = row['tokens'].split('|')\n",
    "        if row['sentiment'] in class_count:\n",
    "            class_count[row['sentiment']] += len(row_tokens)\n",
    "        else:\n",
    "            class_count[row['sentiment']] = len(row_tokens)\n",
    "    return class_count\n",
    "\n",
    "train_df['sentiment'] = train_df['label'].apply(map_classes)  \n",
    "test_df['sentiment'] = test_df['label'].apply(map_classes)\n",
    "# generate vocabulary\n",
    "vocab = generate_vocab(train_df)"
   ]
  },
  {
   "cell_type": "markdown",
   "metadata": {},
   "source": [
    "## Training"
   ]
  },
  {
   "cell_type": "code",
   "execution_count": null,
   "metadata": {},
   "outputs": [],
   "source": [
    "n_doc= len(train_df)\n",
    "log_prior= [0] * 5\n",
    "log_likelihood= [[0] * 5] * len(vocab)\n",
    "class_count = get_number_of_words_in_class(train_df)\n",
    "for c in range(5): # 5 classes\n",
    "    n_c= (train_df['sentiment'] == c).sum()\n",
    "    log_prior[c] = np.log2(n_c/n_doc)\n",
    "    no_words_in_c= (train_df['sentiment'] == c).apply(lambda x: len(x.split())).sum()\n",
    "    for index,w in vocab:\n",
    "        n_wc= (train_df['sentiment'] == c) & (train_df['sentence'].apply(lambda x: w in x)).sum()\n",
    "        log_likelihood[index][c] = np.log2(n_wc+1/(no_words_in_c+len(vocab)))\n",
    "        \n",
    "\n"
   ]
  }
 ],
 "metadata": {
  "kernelspec": {
   "display_name": "usr",
   "language": "python",
   "name": "python3"
  },
  "language_info": {
   "codemirror_mode": {
    "name": "ipython",
    "version": 3
   },
   "file_extension": ".py",
   "mimetype": "text/x-python",
   "name": "python",
   "nbconvert_exporter": "python",
   "pygments_lexer": "ipython3",
   "version": "3.12.3"
  }
 },
 "nbformat": 4,
 "nbformat_minor": 2
}
