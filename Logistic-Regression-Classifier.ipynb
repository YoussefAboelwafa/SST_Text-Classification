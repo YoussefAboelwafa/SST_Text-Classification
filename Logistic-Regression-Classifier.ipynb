{
 "cells": [
  {
   "cell_type": "code",
   "execution_count": 130,
   "metadata": {},
   "outputs": [],
   "source": [
    "import numpy as np\n",
    "import pandas as pd\n",
    "from utils import *"
   ]
  },
  {
   "cell_type": "markdown",
   "metadata": {},
   "source": [
    "## Read Dataset from CSV file\n",
    "\n",
    "CSV file is modified to have columns as follows:\n",
    "\n",
    "- sentence: original sentence\n",
    "- label   : class (0 to 4)\n",
    "- tokens  : tokenized sentence\n",
    "- score   : sentiment score (0 to 1)"
   ]
  },
  {
   "cell_type": "code",
   "execution_count": 131,
   "metadata": {},
   "outputs": [
    {
     "name": "stdout",
     "output_type": "stream",
     "text": [
      "Train size:  8544\n",
      "Val size  :  1101\n",
      "Test size :  2210\n"
     ]
    }
   ],
   "source": [
    "train_df = pd.read_csv(\"dataset/train.csv\")\n",
    "print(\"Train size: \", len(train_df))\n",
    "\n",
    "val_df = pd.read_csv(\"dataset/val.csv\")\n",
    "print(\"Val size  : \", len(val_df))\n",
    "\n",
    "test_df = pd.read_csv(\"dataset/test.csv\")\n",
    "print(\"Test size : \", len(test_df))"
   ]
  }
 ],
 "metadata": {
  "kernelspec": {
   "display_name": "nlp",
   "language": "python",
   "name": "python3"
  },
  "language_info": {
   "codemirror_mode": {
    "name": "ipython",
    "version": 3
   },
   "file_extension": ".py",
   "mimetype": "text/x-python",
   "name": "python",
   "nbconvert_exporter": "python",
   "pygments_lexer": "ipython3",
   "version": "3.10.0"
  }
 },
 "nbformat": 4,
 "nbformat_minor": 2
}
